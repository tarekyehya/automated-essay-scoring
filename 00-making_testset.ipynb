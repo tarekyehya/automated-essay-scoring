{
 "cells": [
  {
   "cell_type": "code",
   "execution_count": 1,
   "id": "60af6546",
   "metadata": {
    "execution": {
     "iopub.execute_input": "2024-05-16T23:58:08.975555Z",
     "iopub.status.busy": "2024-05-16T23:58:08.974508Z",
     "iopub.status.idle": "2024-05-16T23:58:11.506650Z",
     "shell.execute_reply": "2024-05-16T23:58:11.505118Z"
    },
    "papermill": {
     "duration": 2.539593,
     "end_time": "2024-05-16T23:58:11.509563",
     "exception": false,
     "start_time": "2024-05-16T23:58:08.969970",
     "status": "completed"
    },
    "tags": []
   },
   "outputs": [],
   "source": [
    "import pandas as pd\n",
    "from sklearn.model_selection import StratifiedKFold"
   ]
  },
  {
   "cell_type": "code",
   "execution_count": 2,
   "id": "424dbb39",
   "metadata": {
    "execution": {
     "iopub.execute_input": "2024-05-16T23:58:11.516526Z",
     "iopub.status.busy": "2024-05-16T23:58:11.515907Z",
     "iopub.status.idle": "2024-05-16T23:58:11.524429Z",
     "shell.execute_reply": "2024-05-16T23:58:11.523154Z"
    },
    "papermill": {
     "duration": 0.015315,
     "end_time": "2024-05-16T23:58:11.527591",
     "exception": false,
     "start_time": "2024-05-16T23:58:11.512276",
     "status": "completed"
    },
    "tags": []
   },
   "outputs": [],
   "source": [
    "def take_and_drop_part(df, label_column, part_size):\n",
    "    # Initialize StratifiedKFold with 1 split (for taking one part)\n",
    "    skf = StratifiedKFold(n_splits=int(len(df) / part_size))\n",
    "    \n",
    "    # Get the indices for the first fold\n",
    "    for _, test_index in skf.split(df, df[label_column]):\n",
    "        part_indices = test_index\n",
    "        break\n",
    "    \n",
    "    # Select the part DataFrame\n",
    "    part_df = df.iloc[part_indices]\n",
    "    \n",
    "    # Drop the selected part from the original DataFrame\n",
    "    df_remaining = df.drop(part_indices)\n",
    "    \n",
    "    return part_df, df_remaining"
   ]
  },
  {
   "cell_type": "code",
   "execution_count": 3,
   "id": "23fa7b48",
   "metadata": {
    "execution": {
     "iopub.execute_input": "2024-05-16T23:58:11.534271Z",
     "iopub.status.busy": "2024-05-16T23:58:11.533855Z",
     "iopub.status.idle": "2024-05-16T23:58:12.641258Z",
     "shell.execute_reply": "2024-05-16T23:58:12.640027Z"
    },
    "papermill": {
     "duration": 1.114057,
     "end_time": "2024-05-16T23:58:12.644109",
     "exception": false,
     "start_time": "2024-05-16T23:58:11.530052",
     "status": "completed"
    },
    "tags": []
   },
   "outputs": [],
   "source": [
    "# read the data\n",
    "df = pd.read_csv(\"/kaggle/input/learning-agency-lab-automated-essay-scoring-2/train.csv\")\n",
    "test, train = take_and_drop_part(df,'score',1500)"
   ]
  }
 ],
 "metadata": {
  "kaggle": {
   "accelerator": "none",
   "dataSources": [
    {
     "databundleVersionId": 8059942,
     "sourceId": 71485,
     "sourceType": "competition"
    }
   ],
   "dockerImageVersionId": 30698,
   "isGpuEnabled": false,
   "isInternetEnabled": true,
   "language": "python",
   "sourceType": "notebook"
  },
  "kernelspec": {
   "display_name": "Python 3",
   "language": "python",
   "name": "python3"
  },
  "language_info": {
   "codemirror_mode": {
    "name": "ipython",
    "version": 3
   },
   "file_extension": ".py",
   "mimetype": "text/x-python",
   "name": "python",
   "nbconvert_exporter": "python",
   "pygments_lexer": "ipython3",
   "version": "3.10.13"
  },
  "papermill": {
   "default_parameters": {},
   "duration": 10.219338,
   "end_time": "2024-05-16T23:58:15.911399",
   "environment_variables": {},
   "exception": null,
   "input_path": "__notebook__.ipynb",
   "output_path": "__notebook__.ipynb",
   "parameters": {},
   "start_time": "2024-05-16T23:58:05.692061",
   "version": "2.5.0"
  }
 },
 "nbformat": 4,
 "nbformat_minor": 5
}
