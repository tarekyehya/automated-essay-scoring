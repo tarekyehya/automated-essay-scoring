{
 "cells": [
  {
   "cell_type": "code",
   "execution_count": 1,
   "id": "72219ddb",
   "metadata": {
    "execution": {
     "iopub.execute_input": "2024-05-17T06:10:07.877534Z",
     "iopub.status.busy": "2024-05-17T06:10:07.876874Z",
     "iopub.status.idle": "2024-05-17T06:10:10.989393Z",
     "shell.execute_reply": "2024-05-17T06:10:10.987467Z"
    },
    "papermill": {
     "duration": 3.121354,
     "end_time": "2024-05-17T06:10:10.992818",
     "exception": false,
     "start_time": "2024-05-17T06:10:07.871464",
     "status": "completed"
    },
    "tags": []
   },
   "outputs": [],
   "source": [
    "import pandas as pd\n",
    "from sklearn.model_selection import StratifiedKFold"
   ]
  },
  {
   "cell_type": "code",
   "execution_count": 2,
   "id": "8b5837f5",
   "metadata": {
    "execution": {
     "iopub.execute_input": "2024-05-17T06:10:11.001307Z",
     "iopub.status.busy": "2024-05-17T06:10:11.000525Z",
     "iopub.status.idle": "2024-05-17T06:10:11.009774Z",
     "shell.execute_reply": "2024-05-17T06:10:11.008694Z"
    },
    "papermill": {
     "duration": 0.017143,
     "end_time": "2024-05-17T06:10:11.013097",
     "exception": false,
     "start_time": "2024-05-17T06:10:10.995954",
     "status": "completed"
    },
    "tags": []
   },
   "outputs": [],
   "source": [
    "def take_and_drop_part(df, label_column, part_size):\n",
    "    # Initialize StratifiedKFold with 1 split (for taking one part)\n",
    "    skf = StratifiedKFold(n_splits=int(len(df) / part_size))\n",
    "    \n",
    "    # Get the indices for the first fold\n",
    "    for _, test_index in skf.split(df, df[label_column]):\n",
    "        part_indices = test_index\n",
    "        break\n",
    "    \n",
    "    # Select the part DataFrame\n",
    "    part_df = df.iloc[part_indices]\n",
    "    \n",
    "    # Drop the selected part from the original DataFrame\n",
    "    df_remaining = df.drop(part_indices)\n",
    "    \n",
    "    return part_df, df_remaining"
   ]
  },
  {
   "cell_type": "code",
   "execution_count": 3,
   "id": "252fa8e0",
   "metadata": {
    "execution": {
     "iopub.execute_input": "2024-05-17T06:10:11.020512Z",
     "iopub.status.busy": "2024-05-17T06:10:11.020014Z",
     "iopub.status.idle": "2024-05-17T06:10:12.129470Z",
     "shell.execute_reply": "2024-05-17T06:10:12.127833Z"
    },
    "papermill": {
     "duration": 1.117472,
     "end_time": "2024-05-17T06:10:12.133264",
     "exception": false,
     "start_time": "2024-05-17T06:10:11.015792",
     "status": "completed"
    },
    "tags": []
   },
   "outputs": [],
   "source": [
    "# read the data\n",
    "df = pd.read_csv(\"/kaggle/input/learning-agency-lab-automated-essay-scoring-2/train.csv\")\n",
    "test, train = take_and_drop_part(df,'score',1500)"
   ]
  }
 ],
 "metadata": {
  "kaggle": {
   "accelerator": "none",
   "dataSources": [
    {
     "databundleVersionId": 8059942,
     "sourceId": 71485,
     "sourceType": "competition"
    }
   ],
   "dockerImageVersionId": 30698,
   "isGpuEnabled": false,
   "isInternetEnabled": true,
   "language": "python",
   "sourceType": "notebook"
  },
  "kernelspec": {
   "display_name": "Python 3",
   "language": "python",
   "name": "python3"
  },
  "language_info": {
   "codemirror_mode": {
    "name": "ipython",
    "version": 3
   },
   "file_extension": ".py",
   "mimetype": "text/x-python",
   "name": "python",
   "nbconvert_exporter": "python",
   "pygments_lexer": "ipython3",
   "version": "3.10.13"
  },
  "papermill": {
   "default_parameters": {},
   "duration": 11.370438,
   "end_time": "2024-05-17T06:10:15.556271",
   "environment_variables": {},
   "exception": null,
   "input_path": "__notebook__.ipynb",
   "output_path": "__notebook__.ipynb",
   "parameters": {},
   "start_time": "2024-05-17T06:10:04.185833",
   "version": "2.5.0"
  }
 },
 "nbformat": 4,
 "nbformat_minor": 5
}
