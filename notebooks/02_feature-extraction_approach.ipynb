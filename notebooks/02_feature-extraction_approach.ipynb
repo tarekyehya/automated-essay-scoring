{
 "cells": [
  {
   "cell_type": "markdown",
   "id": "0d730fc7",
   "metadata": {
    "papermill": {
     "duration": 0.006365,
     "end_time": "2024-06-04T13:29:15.529596",
     "exception": false,
     "start_time": "2024-06-04T13:29:15.523231",
     "status": "completed"
    },
    "tags": []
   },
   "source": [
    "## Libraries"
   ]
  },
  {
   "cell_type": "code",
   "execution_count": 1,
   "id": "cba52432",
   "metadata": {
    "_cell_guid": "b1076dfc-b9ad-4769-8c92-a6c4dae69d19",
    "_uuid": "8f2839f25d086af736a60e9eeb907d3b93b6e0e5",
    "execution": {
     "iopub.execute_input": "2024-06-04T13:29:15.544028Z",
     "iopub.status.busy": "2024-06-04T13:29:15.543334Z",
     "iopub.status.idle": "2024-06-04T13:31:45.442397Z",
     "shell.execute_reply": "2024-06-04T13:31:45.441257Z"
    },
    "papermill": {
     "duration": 149.909348,
     "end_time": "2024-06-04T13:31:45.445020",
     "exception": false,
     "start_time": "2024-06-04T13:29:15.535672",
     "status": "completed"
    },
    "tags": []
   },
   "outputs": [
    {
     "name": "stdout",
     "output_type": "stream",
     "text": [
      "\u001b[33mWARNING: Retrying (Retry(total=4, connect=None, read=None, redirect=None, status=None)) after connection broken by 'NewConnectionError('<pip._vendor.urllib3.connection.HTTPSConnection object at 0x7cf51ec3a590>: Failed to establish a new connection: [Errno -3] Temporary failure in name resolution')': /simple/datasets/\u001b[0m\u001b[33m\r\n",
      "\u001b[0m\u001b[33mWARNING: Retrying (Retry(total=3, connect=None, read=None, redirect=None, status=None)) after connection broken by 'NewConnectionError('<pip._vendor.urllib3.connection.HTTPSConnection object at 0x7cf51ec3a890>: Failed to establish a new connection: [Errno -3] Temporary failure in name resolution')': /simple/datasets/\u001b[0m\u001b[33m\r\n",
      "\u001b[0m\u001b[33mWARNING: Retrying (Retry(total=2, connect=None, read=None, redirect=None, status=None)) after connection broken by 'NewConnectionError('<pip._vendor.urllib3.connection.HTTPSConnection object at 0x7cf51ec3ab30>: Failed to establish a new connection: [Errno -3] Temporary failure in name resolution')': /simple/datasets/\u001b[0m\u001b[33m\r\n",
      "\u001b[0m\u001b[33mWARNING: Retrying (Retry(total=1, connect=None, read=None, redirect=None, status=None)) after connection broken by 'NewConnectionError('<pip._vendor.urllib3.connection.HTTPSConnection object at 0x7cf51ec3ace0>: Failed to establish a new connection: [Errno -3] Temporary failure in name resolution')': /simple/datasets/\u001b[0m\u001b[33m\r\n",
      "\u001b[0m\u001b[33mWARNING: Retrying (Retry(total=0, connect=None, read=None, redirect=None, status=None)) after connection broken by 'NewConnectionError('<pip._vendor.urllib3.connection.HTTPSConnection object at 0x7cf51ec3ae90>: Failed to establish a new connection: [Errno -3] Temporary failure in name resolution')': /simple/datasets/\u001b[0m\u001b[33m\r\n",
      "\u001b[0m\u001b[31mERROR: Could not find a version that satisfies the requirement datasets==2.15 (from versions: none)\u001b[0m\u001b[31m\r\n",
      "\u001b[0m\u001b[31mERROR: No matching distribution found for datasets==2.15\u001b[0m\u001b[31m\r\n",
      "\u001b[0m"
     ]
    }
   ],
   "source": [
    "!pip install datasets==2.15\n",
    "sample = 1000"
   ]
  },
  {
   "cell_type": "code",
   "execution_count": 2,
   "id": "af5cfc80",
   "metadata": {
    "execution": {
     "iopub.execute_input": "2024-06-04T13:31:45.460157Z",
     "iopub.status.busy": "2024-06-04T13:31:45.459358Z",
     "iopub.status.idle": "2024-06-04T13:32:17.951127Z",
     "shell.execute_reply": "2024-06-04T13:32:17.950261Z"
    },
    "papermill": {
     "duration": 32.507626,
     "end_time": "2024-06-04T13:32:17.959314",
     "exception": false,
     "start_time": "2024-06-04T13:31:45.451688",
     "status": "completed"
    },
    "tags": []
   },
   "outputs": [
    {
     "name": "stdout",
     "output_type": "stream",
     "text": [
      "[nltk_data] Error loading wordnet: <urlopen error [Errno -3] Temporary\n",
      "[nltk_data]     failure in name resolution>\n"
     ]
    },
    {
     "data": {
      "text/plain": [
       "False"
      ]
     },
     "execution_count": 2,
     "metadata": {},
     "output_type": "execute_result"
    }
   ],
   "source": [
    "# Importing necessary libraries\n",
    "import nltk\n",
    "import numpy as np # linear algebra\n",
    "import lightgbm as lgb\n",
    "import pandas as pd # data processing, CSV file I/O (e.g. pd.read_csv)\n",
    "import re\n",
    "from sklearn.model_selection import train_test_split\n",
    "from sklearn.ensemble import RandomForestClassifier, ExtraTreesClassifier, AdaBoostClassifier,GradientBoostingClassifier,BaggingClassifier\n",
    "from sklearn.datasets import make_classification\n",
    "from sklearn.metrics import confusion_matrix, ConfusionMatrixDisplay\n",
    "from sklearn.model_selection import train_test_split, StratifiedKFold\n",
    "from sklearn.metrics import confusion_matrix, ConfusionMatrixDisplay, f1_score\n",
    "import matplotlib.pyplot as plt\n",
    "from sklearn.metrics import cohen_kappa_score\n",
    "from lightgbm import log_evaluation, early_stopping\n",
    "from sklearn.linear_model import SGDClassifier\n",
    "import polars as pl\n",
    "import torch\n",
    "from IPython.display import display\n",
    "from datasets import Dataset,DatasetDict\n",
    "from transformers import AutoTokenizer\n",
    "from transformers import AutoModel\n",
    "\n",
    "nltk.download('wordnet')"
   ]
  },
  {
   "cell_type": "markdown",
   "id": "f1774560",
   "metadata": {
    "papermill": {
     "duration": 0.006117,
     "end_time": "2024-06-04T13:32:17.971784",
     "exception": false,
     "start_time": "2024-06-04T13:32:17.965667",
     "status": "completed"
    },
    "tags": []
   },
   "source": [
    "### Reading the Data"
   ]
  },
  {
   "cell_type": "code",
   "execution_count": 3,
   "id": "73307f1b",
   "metadata": {
    "execution": {
     "iopub.execute_input": "2024-06-04T13:32:17.986284Z",
     "iopub.status.busy": "2024-06-04T13:32:17.985261Z",
     "iopub.status.idle": "2024-06-04T13:32:18.812959Z",
     "shell.execute_reply": "2024-06-04T13:32:18.812007Z"
    },
    "papermill": {
     "duration": 0.836885,
     "end_time": "2024-06-04T13:32:18.814953",
     "exception": false,
     "start_time": "2024-06-04T13:32:17.978068",
     "status": "completed"
    },
    "tags": []
   },
   "outputs": [
    {
     "data": {
      "text/html": [
       "<div><style>\n",
       ".dataframe > thead > tr,\n",
       ".dataframe > tbody > tr {\n",
       "  text-align: right;\n",
       "  white-space: pre-wrap;\n",
       "}\n",
       "</style>\n",
       "<small>shape: (1, 4)</small><table border=\"1\" class=\"dataframe\"><thead><tr><th>essay_id</th><th>full_text</th><th>score</th><th>paragraph</th></tr><tr><td>str</td><td>str</td><td>i64</td><td>list[str]</td></tr></thead><tbody><tr><td>&quot;000d118&quot;</td><td>&quot;Many people ha…</td><td>3</td><td>[&quot;Many people have car where they live. The thing they don&#x27;t know is that when you use a car alot of thing can happen like you can get in accidet or the smoke that the car has is bad to breath on if someone is walk but in VAUBAN,Germany they dont have that proble because 70 percent of vauban&#x27;s families do not own cars,and 57 percent sold a car to move there. Street parkig ,driveways and home garages are forbidden on the outskirts of freiburd that near the French and Swiss borders. You probaly won&#x27;t see a car in Vauban&#x27;s streets because they are completely &quot;car free&quot; but If some that lives in VAUBAN that owns a car ownership is allowed,but there are only two places that you can park a large garages at the edge of the development,where a car owner buys a space but it not cheap to buy one they sell the space for you car for $40,000 along with a home. The vauban people completed this in 2006 ,they said that this an example of a growing trend in Europe,The untile states and some where else are suburban life from auto use this is called &quot;smart planning&quot;. The current efforts to drastically reduce greenhouse gas emissions from tailes the passengee cars are responsible for 12 percent of greenhouse gas emissions in Europe and up to 50 percent in some car intensive in the United States. I honeslty think that good idea that they did that is Vaudan because that makes cities denser and better for walking and in VAUBAN there are 5,500 residents within a rectangular square mile. In the artical David Gold berg said that &quot;All of our development since World war 2 has been centered on the cars,and that will have to change&quot; and i think that was very true what David Gold said because alot thing we need cars to do we can go anyway were with out cars beacuse some people are a very lazy to walk to place thats why they alot of people use car and i think that it was a good idea that that they did that in VAUBAN so people can see how we really don&#x27;t need car to go to place from place because we can walk from were we need to go or we can ride bycles with out the use of a car. It good that they are doing that if you thik about your help the earth in way and thats a very good thing to. In the United states ,the Environmental protection Agency is promoting what is called &quot;car reduced&quot;communtunties,and the legislators are starting to act,if cautiously. Maany experts expect pubic transport serving suburbs to play a much larger role in a new six years federal transportation bill to approved this year. In previous bill,80 percent of appropriations have by law gone to highways and only 20 percent to other transports. There many good reason why they should do this.    &quot;]</td></tr></tbody></table></div>"
      ],
      "text/plain": [
       "shape: (1, 4)\n",
       "┌──────────┬───────────────────────────────────┬───────┬───────────────────────────────────┐\n",
       "│ essay_id ┆ full_text                         ┆ score ┆ paragraph                         │\n",
       "│ ---      ┆ ---                               ┆ ---   ┆ ---                               │\n",
       "│ str      ┆ str                               ┆ i64   ┆ list[str]                         │\n",
       "╞══════════╪═══════════════════════════════════╪═══════╪═══════════════════════════════════╡\n",
       "│ 000d118  ┆ Many people have car where they … ┆ 3     ┆ [\"Many people have car where the… │\n",
       "└──────────┴───────────────────────────────────┴───────┴───────────────────────────────────┘"
      ]
     },
     "execution_count": 3,
     "metadata": {},
     "output_type": "execute_result"
    }
   ],
   "source": [
    "columns = [  \n",
    "    (\n",
    "        pl.col(\"full_text\").str.split(by=\"\\n\\n\").alias(\"paragraph\")\n",
    "    ),\n",
    "]\n",
    "PATH = \"/kaggle/input/learning-agency-lab-automated-essay-scoring-2/\"\n",
    "# 载入训练集和测试集，同时对full_text数据使用\\n\\n字符分割为列表，重命名为paragraph\n",
    "# Load training and testing sets, while using \\ n \\ n character segmentation to list and renaming to paragraph for full_text data\n",
    "train = pl.read_csv(PATH + \"train.csv\").with_columns(columns)\n",
    "\n",
    "# for test only\n",
    "#train = train.sample(sample)\n",
    "test = pl.read_csv(PATH + \"test.csv\").with_columns(columns)\n",
    "# 显示训练集中的第一个样本数据\n",
    "# Display the first sample data in the training set\n",
    "train.head(1)"
   ]
  },
  {
   "cell_type": "markdown",
   "id": "59762bcb",
   "metadata": {
    "papermill": {
     "duration": 0.007861,
     "end_time": "2024-06-04T13:32:18.829742",
     "exception": false,
     "start_time": "2024-06-04T13:32:18.821881",
     "status": "completed"
    },
    "tags": []
   },
   "source": [
    "### Preprocessing "
   ]
  },
  {
   "cell_type": "code",
   "execution_count": 4,
   "id": "9cc3d702",
   "metadata": {
    "execution": {
     "iopub.execute_input": "2024-06-04T13:32:18.844901Z",
     "iopub.status.busy": "2024-06-04T13:32:18.844614Z",
     "iopub.status.idle": "2024-06-04T13:32:18.851638Z",
     "shell.execute_reply": "2024-06-04T13:32:18.850862Z"
    },
    "papermill": {
     "duration": 0.016316,
     "end_time": "2024-06-04T13:32:18.853446",
     "exception": false,
     "start_time": "2024-06-04T13:32:18.837130",
     "status": "completed"
    },
    "tags": []
   },
   "outputs": [],
   "source": [
    "def removeHTML(x):\n",
    "    html=re.compile(r'<.*?>')\n",
    "    return html.sub(r'',x)\n",
    "def dataPreprocessing(x):\n",
    "    # 将单词转化为小写\n",
    "    # Convert words to lowercase\n",
    "    x = x.lower()\n",
    "    # Remove HTML\n",
    "    # 移除html\n",
    "    x = removeHTML(x)\n",
    "    # 删除以@作为首字母的字符串\n",
    "    # Delete strings starting with @\n",
    "    x = re.sub(\"@\\w+\", '',x)\n",
    "    # 删除数字\n",
    "    # Delete Numbers\n",
    "    x = re.sub(\"'\\d+\", '',x) # can delete it\n",
    "    x = re.sub(\"\\d+\", '',x)\n",
    "    # 删除网址\n",
    "    # Delete URL\n",
    "    x = re.sub(\"http\\w+\", '',x)\n",
    "    # 将连续空白符替换为一个空格字符\n",
    "    # Replace consecutive empty spaces with a single space character\n",
    "    x = re.sub(r\"\\s+\", \" \", x)\n",
    "    # 替换连续的句号和逗号为一个\n",
    "    # Replace consecutive commas and periods with one comma and period character\n",
    "    x = re.sub(r\"\\.+\", \".\", x)\n",
    "    x = re.sub(r\"\\,+\", \",\", x)\n",
    "    # 去除开头结尾的空白符\n",
    "    # Remove empty characters at the beginning and end\n",
    "    x = x.strip()\n",
    "    return x"
   ]
  },
  {
   "cell_type": "markdown",
   "id": "9ba8ac80",
   "metadata": {
    "papermill": {
     "duration": 0.006455,
     "end_time": "2024-06-04T13:32:18.866578",
     "exception": false,
     "start_time": "2024-06-04T13:32:18.860123",
     "status": "completed"
    },
    "tags": []
   },
   "source": [
    "### evaluation and Loss function"
   ]
  },
  {
   "cell_type": "code",
   "execution_count": 5,
   "id": "81e16c69",
   "metadata": {
    "execution": {
     "iopub.execute_input": "2024-06-04T13:32:18.880658Z",
     "iopub.status.busy": "2024-06-04T13:32:18.880351Z",
     "iopub.status.idle": "2024-06-04T13:32:18.887265Z",
     "shell.execute_reply": "2024-06-04T13:32:18.886525Z"
    },
    "papermill": {
     "duration": 0.01596,
     "end_time": "2024-06-04T13:32:18.889031",
     "exception": false,
     "start_time": "2024-06-04T13:32:18.873071",
     "status": "completed"
    },
    "tags": []
   },
   "outputs": [],
   "source": [
    "# evaluation metric.\n",
    "# idea from https://www.kaggle.com/code/rsakata/optimize-qwk-by-lgb/notebook#QWK-objective\n",
    "def quadratic_weighted_kappa(y_true, y_pred):\n",
    "    y_true = y_true + a\n",
    "    y_pred = (y_pred + a).clip(1, 6).round()\n",
    "    qwk = cohen_kappa_score(y_true, y_pred, weights=\"quadratic\")\n",
    "    return 'QWK', qwk, True\n",
    "\n",
    "# Loss function\n",
    "def qwk_obj(y_true, y_pred):\n",
    "    labels = y_true + a\n",
    "    preds = y_pred + a\n",
    "    preds = preds.clip(1, 6)\n",
    "    f = 1/2*np.sum((preds-labels)**2)\n",
    "    g = 1/2*np.sum((preds-a)**2+b)\n",
    "    df = preds - labels\n",
    "    dg = preds - a\n",
    "    grad = (df/g - f*dg/g**2)*len(labels)\n",
    "    hess = np.ones(len(labels))\n",
    "    return grad, hess\n",
    "a = 2.948\n",
    "b = 1.092"
   ]
  },
  {
   "cell_type": "markdown",
   "id": "a6ddb599",
   "metadata": {
    "papermill": {
     "duration": 0.006433,
     "end_time": "2024-06-04T13:32:18.902063",
     "exception": false,
     "start_time": "2024-06-04T13:32:18.895630",
     "status": "completed"
    },
    "tags": []
   },
   "source": [
    "### Feature extraction"
   ]
  },
  {
   "cell_type": "code",
   "execution_count": 6,
   "id": "d53812be",
   "metadata": {
    "execution": {
     "iopub.execute_input": "2024-06-04T13:32:18.916867Z",
     "iopub.status.busy": "2024-06-04T13:32:18.916205Z",
     "iopub.status.idle": "2024-06-04T13:32:25.311586Z",
     "shell.execute_reply": "2024-06-04T13:32:25.310260Z"
    },
    "papermill": {
     "duration": 6.405046,
     "end_time": "2024-06-04T13:32:25.313728",
     "exception": false,
     "start_time": "2024-06-04T13:32:18.908682",
     "status": "completed"
    },
    "tags": []
   },
   "outputs": [
    {
     "name": "stdout",
     "output_type": "stream",
     "text": [
      "train size: 17307\n",
      "test size: 3\n"
     ]
    }
   ],
   "source": [
    "# convert the df to dataset \n",
    "train = train.with_columns(pl.col('full_text').map_elements(dataPreprocessing,return_dtype=str))\n",
    "test = test.with_columns(pl.col('full_text').map_elements(dataPreprocessing,return_dtype=str))\n",
    "\n",
    "ds_train = Dataset.from_pandas(train.to_pandas())\n",
    "ds_test = Dataset.from_pandas(test.to_pandas())\n",
    "\n",
    "ds = DatasetDict({\"train\": ds_train, \"test\": ds_test})\n",
    "\n",
    "# Print the dataset dictionary keys and sizes\n",
    "for name, dataset in ds.items():\n",
    "    print(f\"{name} size:\", len(dataset))\n"
   ]
  },
  {
   "cell_type": "code",
   "execution_count": 7,
   "id": "dc7f1ece",
   "metadata": {
    "execution": {
     "iopub.execute_input": "2024-06-04T13:32:25.329108Z",
     "iopub.status.busy": "2024-06-04T13:32:25.328839Z",
     "iopub.status.idle": "2024-06-04T13:32:46.142154Z",
     "shell.execute_reply": "2024-06-04T13:32:46.141256Z"
    },
    "papermill": {
     "duration": 20.823937,
     "end_time": "2024-06-04T13:32:46.144872",
     "exception": false,
     "start_time": "2024-06-04T13:32:25.320935",
     "status": "completed"
    },
    "tags": []
   },
   "outputs": [
    {
     "name": "stderr",
     "output_type": "stream",
     "text": [
      "/opt/conda/lib/python3.10/site-packages/transformers/convert_slow_tokenizer.py:550: UserWarning: The sentencepiece tokenizer that you are converting to a fast tokenizer uses the byte fallback option which is not implemented in the fast tokenizers. In practice this means that the fast version of the tokenizer can produce unknown tokens whereas the sentencepiece version would have converted these unknown tokens into a sequence of byte tokens matching the original piece of text.\n",
      "  warnings.warn(\n"
     ]
    },
    {
     "data": {
      "application/vnd.jupyter.widget-view+json": {
       "model_id": "21bf69c1860542c3a2fd5edec6f67a03",
       "version_major": 2,
       "version_minor": 0
      },
      "text/plain": [
       "Map:   0%|          | 0/17307 [00:00<?, ? examples/s]"
      ]
     },
     "metadata": {},
     "output_type": "display_data"
    },
    {
     "data": {
      "application/vnd.jupyter.widget-view+json": {
       "model_id": "e07daa322adb4dfb854a9c81549d5ab5",
       "version_major": 2,
       "version_minor": 0
      },
      "text/plain": [
       "Map:   0%|          | 0/3 [00:00<?, ? examples/s]"
      ]
     },
     "metadata": {},
     "output_type": "display_data"
    },
    {
     "name": "stdout",
     "output_type": "stream",
     "text": [
      "DatasetDict({\n",
      "    train: Dataset({\n",
      "        features: ['essay_id', 'full_text', 'score', 'paragraph', 'input_ids', 'token_type_ids', 'attention_mask'],\n",
      "        num_rows: 17307\n",
      "    })\n",
      "    test: Dataset({\n",
      "        features: ['essay_id', 'full_text', 'paragraph', 'input_ids', 'token_type_ids', 'attention_mask'],\n",
      "        num_rows: 3\n",
      "    })\n",
      "})\n"
     ]
    }
   ],
   "source": [
    "# tokenize \n",
    "model_ckpt = \"/kaggle/input/deberta-v3/pytorch/base/2\"\n",
    "tokenizer = AutoTokenizer.from_pretrained(model_ckpt)\n",
    "\n",
    "def tokenize(batch):\n",
    "    return tokenizer(batch[\"full_text\"], padding=True)\n",
    "\n",
    "dst = ds.map(tokenize, batched=True ,batch_size = 64)\n",
    "print(dst)"
   ]
  },
  {
   "cell_type": "code",
   "execution_count": 8,
   "id": "182a0739",
   "metadata": {
    "execution": {
     "iopub.execute_input": "2024-06-04T13:32:46.161511Z",
     "iopub.status.busy": "2024-06-04T13:32:46.160784Z",
     "iopub.status.idle": "2024-06-04T13:32:50.552888Z",
     "shell.execute_reply": "2024-06-04T13:32:50.551829Z"
    },
    "papermill": {
     "duration": 4.402735,
     "end_time": "2024-06-04T13:32:50.555249",
     "exception": false,
     "start_time": "2024-06-04T13:32:46.152514",
     "status": "completed"
    },
    "tags": []
   },
   "outputs": [
    {
     "name": "stderr",
     "output_type": "stream",
     "text": [
      "/opt/conda/lib/python3.10/site-packages/torch/_utils.py:831: UserWarning: TypedStorage is deprecated. It will be removed in the future and UntypedStorage will be the only storage class. This should only matter to you if you are using storages directly.  To access UntypedStorage directly, use tensor.untyped_storage() instead of tensor.storage()\n",
      "  return self.fget.__get__(instance, owner)()\n"
     ]
    }
   ],
   "source": [
    "# load the model\n",
    "device = torch.device(\"cuda\" if torch.cuda.is_available() else \"cpu\")\n",
    "model = AutoModel.from_pretrained(model_ckpt).to(device)"
   ]
  },
  {
   "cell_type": "code",
   "execution_count": 9,
   "id": "5cd64925",
   "metadata": {
    "execution": {
     "iopub.execute_input": "2024-06-04T13:32:50.572276Z",
     "iopub.status.busy": "2024-06-04T13:32:50.571669Z",
     "iopub.status.idle": "2024-06-04T13:32:50.582695Z",
     "shell.execute_reply": "2024-06-04T13:32:50.581842Z"
    },
    "papermill": {
     "duration": 0.021597,
     "end_time": "2024-06-04T13:32:50.584666",
     "exception": false,
     "start_time": "2024-06-04T13:32:50.563069",
     "status": "completed"
    },
    "tags": []
   },
   "outputs": [],
   "source": [
    "# set format to tensors, ( needed for the model Feedforward )\n",
    "dst.set_format(\"torch\",columns=[\"input_ids\", \"attention_mask\"])\n",
    "\n",
    "# remove unwanted features\n",
    "columns_to_remove = ['essay_id', 'full_text', 'paragraph']\n",
    "dstr = dst.remove_columns(columns_to_remove)"
   ]
  },
  {
   "cell_type": "code",
   "execution_count": 10,
   "id": "a24525aa",
   "metadata": {
    "execution": {
     "iopub.execute_input": "2024-06-04T13:32:50.600878Z",
     "iopub.status.busy": "2024-06-04T13:32:50.600191Z",
     "iopub.status.idle": "2024-06-04T13:56:14.224863Z",
     "shell.execute_reply": "2024-06-04T13:56:14.223889Z"
    },
    "papermill": {
     "duration": 1403.635396,
     "end_time": "2024-06-04T13:56:14.227294",
     "exception": false,
     "start_time": "2024-06-04T13:32:50.591898",
     "status": "completed"
    },
    "tags": []
   },
   "outputs": [
    {
     "data": {
      "application/vnd.jupyter.widget-view+json": {
       "model_id": "45256700e4a24cdea9a2cacbb6c5ce80",
       "version_major": 2,
       "version_minor": 0
      },
      "text/plain": [
       "Map:   0%|          | 0/17307 [00:00<?, ? examples/s]"
      ]
     },
     "metadata": {},
     "output_type": "display_data"
    },
    {
     "data": {
      "application/vnd.jupyter.widget-view+json": {
       "model_id": "5e4ec8ea57d1417899f039895d6541d9",
       "version_major": 2,
       "version_minor": 0
      },
      "text/plain": [
       "Map:   0%|          | 0/3 [00:00<?, ? examples/s]"
      ]
     },
     "metadata": {},
     "output_type": "display_data"
    }
   ],
   "source": [
    "# extract the features\n",
    "def extract_hidden_states(batch):\n",
    "    # Place model inputs on the GPU\n",
    "    inputs = {k:v.to(device) for k,v in batch.items() \n",
    "              if k in tokenizer.model_input_names}\n",
    "    # Extract last hidden states\n",
    "    with torch.no_grad():\n",
    "        last_hidden_state = model(**inputs).last_hidden_state\n",
    "    # Return vector for [CLS] token\n",
    "    return {\"hidden_state\": last_hidden_state[:,0].cpu().numpy()}\n",
    "\n",
    "# prepare the vectors\n",
    "dstr_hidden = dstr.map(extract_hidden_states,batched=True,batch_size = 2)"
   ]
  },
  {
   "cell_type": "markdown",
   "id": "77ebae9d",
   "metadata": {
    "papermill": {
     "duration": 0.007699,
     "end_time": "2024-06-04T13:56:14.242898",
     "exception": false,
     "start_time": "2024-06-04T13:56:14.235199",
     "status": "completed"
    },
    "tags": []
   },
   "source": [
    "### modeling"
   ]
  },
  {
   "cell_type": "code",
   "execution_count": 11,
   "id": "a2ca012e",
   "metadata": {
    "execution": {
     "iopub.execute_input": "2024-06-04T13:56:14.259417Z",
     "iopub.status.busy": "2024-06-04T13:56:14.259132Z",
     "iopub.status.idle": "2024-06-04T13:56:14.424578Z",
     "shell.execute_reply": "2024-06-04T13:56:14.423603Z"
    },
    "papermill": {
     "duration": 0.17658,
     "end_time": "2024-06-04T13:56:14.426984",
     "exception": false,
     "start_time": "2024-06-04T13:56:14.250404",
     "status": "completed"
    },
    "tags": []
   },
   "outputs": [],
   "source": [
    "X = dstr_hidden['train']['hidden_state'].numpy()\n",
    "y_split = np.array(dstr_hidden['train']['score'])\n",
    "y = y_split-a"
   ]
  },
  {
   "cell_type": "code",
   "execution_count": 12,
   "id": "8e90b1ce",
   "metadata": {
    "execution": {
     "iopub.execute_input": "2024-06-04T13:56:14.445160Z",
     "iopub.status.busy": "2024-06-04T13:56:14.444501Z",
     "iopub.status.idle": "2024-06-04T13:59:32.744041Z",
     "shell.execute_reply": "2024-06-04T13:59:32.743126Z"
    },
    "papermill": {
     "duration": 198.310625,
     "end_time": "2024-06-04T13:59:32.746046",
     "exception": false,
     "start_time": "2024-06-04T13:56:14.435421",
     "status": "completed"
    },
    "tags": []
   },
   "outputs": [
    {
     "name": "stdout",
     "output_type": "stream",
     "text": [
      "fold 1\n"
     ]
    },
    {
     "name": "stderr",
     "output_type": "stream",
     "text": [
      "1 warning generated.\n",
      "1 warning generated.\n",
      "1 warning generated.\n",
      "1 warning generated.\n",
      "1 warning generated.\n",
      "1 warning generated.\n",
      "1 warning generated.\n",
      "1 warning generated.\n",
      "1 warning generated.\n",
      "1 warning generated.\n",
      "1 warning generated.\n",
      "1 warning generated.\n",
      "1 warning generated.\n",
      "1 warning generated.\n",
      "1 warning generated.\n",
      "1 warning generated.\n",
      "1 warning generated.\n",
      "1 warning generated.\n",
      "1 warning generated.\n",
      "1 warning generated.\n",
      "1 warning generated.\n",
      "1 warning generated.\n",
      "1 warning generated.\n",
      "1 warning generated.\n",
      "1 warning generated.\n",
      "1 warning generated.\n",
      "1 warning generated.\n",
      "1 warning generated.\n",
      "1 warning generated.\n",
      "1 warning generated.\n",
      "1 warning generated.\n",
      "1 warning generated.\n",
      "1 warning generated.\n"
     ]
    },
    {
     "name": "stdout",
     "output_type": "stream",
     "text": [
      "[LightGBM] [Info] Using self-defined objective function\n",
      "Training until validation scores don't improve for 75 rounds\n",
      "[25]\ttrain's QWK: 0.728962\tvalid's QWK: 0.70665\n",
      "[50]\ttrain's QWK: 0.759031\tvalid's QWK: 0.735247\n",
      "[75]\ttrain's QWK: 0.773481\tvalid's QWK: 0.746341\n",
      "[100]\ttrain's QWK: 0.783468\tvalid's QWK: 0.753552\n",
      "[125]\ttrain's QWK: 0.791071\tvalid's QWK: 0.753814\n",
      "[150]\ttrain's QWK: 0.797757\tvalid's QWK: 0.75573\n",
      "[175]\ttrain's QWK: 0.802992\tvalid's QWK: 0.760557\n",
      "[200]\ttrain's QWK: 0.807296\tvalid's QWK: 0.762084\n",
      "[225]\ttrain's QWK: 0.811219\tvalid's QWK: 0.765187\n",
      "[250]\ttrain's QWK: 0.815333\tvalid's QWK: 0.767152\n",
      "[275]\ttrain's QWK: 0.818371\tvalid's QWK: 0.763799\n",
      "[300]\ttrain's QWK: 0.821491\tvalid's QWK: 0.764505\n",
      "Early stopping, best iteration is:\n",
      "[244]\ttrain's QWK: 0.814477\tvalid's QWK: 0.767965\n",
      "Evaluated only: QWK\n"
     ]
    },
    {
     "data": {
      "image/png": "[encoded data removed]",
      "text/plain": [
       "<Figure size 640x480 with 2 Axes>"
      ]
     },
     "metadata": {},
     "output_type": "display_data"
    },
    {
     "name": "stdout",
     "output_type": "stream",
     "text": [
      "F1 score across fold: 0.6041519690031635\n",
      "Cohen kappa score across fold: 0.7679650910519107\n",
      "fold 2\n",
      "[LightGBM] [Info] Using self-defined objective function\n",
      "Training until validation scores don't improve for 75 rounds\n",
      "[25]\ttrain's QWK: 0.73191\tvalid's QWK: 0.714074\n",
      "[50]\ttrain's QWK: 0.759504\tvalid's QWK: 0.739449\n",
      "[75]\ttrain's QWK: 0.77281\tvalid's QWK: 0.751736\n",
      "[100]\ttrain's QWK: 0.783509\tvalid's QWK: 0.761037\n",
      "[125]\ttrain's QWK: 0.789632\tvalid's QWK: 0.766012\n",
      "[150]\ttrain's QWK: 0.796063\tvalid's QWK: 0.771318\n",
      "[175]\ttrain's QWK: 0.801377\tvalid's QWK: 0.767753\n",
      "[200]\ttrain's QWK: 0.806602\tvalid's QWK: 0.772028\n",
      "[225]\ttrain's QWK: 0.810639\tvalid's QWK: 0.771928\n",
      "[250]\ttrain's QWK: 0.814499\tvalid's QWK: 0.773885\n",
      "[275]\ttrain's QWK: 0.818822\tvalid's QWK: 0.772986\n",
      "[300]\ttrain's QWK: 0.823273\tvalid's QWK: 0.772375\n",
      "[325]\ttrain's QWK: 0.826859\tvalid's QWK: 0.774843\n",
      "[350]\ttrain's QWK: 0.829739\tvalid's QWK: 0.774967\n",
      "[375]\ttrain's QWK: 0.832495\tvalid's QWK: 0.772679\n",
      "[400]\ttrain's QWK: 0.836672\tvalid's QWK: 0.773053\n",
      "[425]\ttrain's QWK: 0.839759\tvalid's QWK: 0.770785\n",
      "[450]\ttrain's QWK: 0.841992\tvalid's QWK: 0.772923\n",
      "[475]\ttrain's QWK: 0.845407\tvalid's QWK: 0.773034\n",
      "[500]\ttrain's QWK: 0.848165\tvalid's QWK: 0.777767\n",
      "[525]\ttrain's QWK: 0.850455\tvalid's QWK: 0.774655\n",
      "[550]\ttrain's QWK: 0.85283\tvalid's QWK: 0.772744\n",
      "Early stopping, best iteration is:\n",
      "[492]\ttrain's QWK: 0.847463\tvalid's QWK: 0.780329\n",
      "Evaluated only: QWK\n"
     ]
    },
    {
     "data": {
      "image/png": "[encoded data removed]",
      "text/plain": [
       "<Figure size 640x480 with 2 Axes>"
      ]
     },
     "metadata": {},
     "output_type": "display_data"
    },
    {
     "name": "stdout",
     "output_type": "stream",
     "text": [
      "F1 score across fold: 0.596130475900324\n",
      "Cohen kappa score across fold: 0.7803286342821226\n",
      "fold 3\n",
      "[LightGBM] [Info] Using self-defined objective function\n",
      "Training until validation scores don't improve for 75 rounds\n",
      "[25]\ttrain's QWK: 0.735224\tvalid's QWK: 0.717021\n",
      "[50]\ttrain's QWK: 0.761318\tvalid's QWK: 0.745126\n",
      "[75]\ttrain's QWK: 0.775228\tvalid's QWK: 0.758628\n",
      "[100]\ttrain's QWK: 0.784228\tvalid's QWK: 0.763782\n",
      "[125]\ttrain's QWK: 0.790858\tvalid's QWK: 0.766482\n",
      "[150]\ttrain's QWK: 0.797607\tvalid's QWK: 0.772153\n",
      "[175]\ttrain's QWK: 0.802034\tvalid's QWK: 0.774021\n",
      "[200]\ttrain's QWK: 0.80691\tvalid's QWK: 0.777252\n",
      "[225]\ttrain's QWK: 0.811868\tvalid's QWK: 0.776273\n",
      "[250]\ttrain's QWK: 0.816348\tvalid's QWK: 0.777076\n",
      "[275]\ttrain's QWK: 0.820581\tvalid's QWK: 0.778257\n",
      "[300]\ttrain's QWK: 0.824604\tvalid's QWK: 0.778991\n",
      "[325]\ttrain's QWK: 0.828427\tvalid's QWK: 0.779085\n",
      "Early stopping, best iteration is:\n",
      "[270]\ttrain's QWK: 0.819389\tvalid's QWK: 0.78129\n",
      "Evaluated only: QWK\n"
     ]
    },
    {
     "data": {
      "image/png": "[encoded data removed]",
      "text/plain": [
       "<Figure size 640x480 with 2 Axes>"
      ]
     },
     "metadata": {},
     "output_type": "display_data"
    },
    {
     "name": "stdout",
     "output_type": "stream",
     "text": [
      "F1 score across fold: 0.5994857709466967\n",
      "Cohen kappa score across fold: 0.7812900931243968\n",
      "fold 4\n",
      "[LightGBM] [Info] Using self-defined objective function\n",
      "Training until validation scores don't improve for 75 rounds\n",
      "[25]\ttrain's QWK: 0.731691\tvalid's QWK: 0.744678\n",
      "[50]\ttrain's QWK: 0.758701\tvalid's QWK: 0.760126\n",
      "[75]\ttrain's QWK: 0.772302\tvalid's QWK: 0.768163\n",
      "[100]\ttrain's QWK: 0.78401\tvalid's QWK: 0.76963\n",
      "[125]\ttrain's QWK: 0.789696\tvalid's QWK: 0.772191\n",
      "[150]\ttrain's QWK: 0.796479\tvalid's QWK: 0.773487\n",
      "[175]\ttrain's QWK: 0.801951\tvalid's QWK: 0.770015\n",
      "[200]\ttrain's QWK: 0.806564\tvalid's QWK: 0.770294\n",
      "[225]\ttrain's QWK: 0.810726\tvalid's QWK: 0.769957\n",
      "Early stopping, best iteration is:\n",
      "[158]\ttrain's QWK: 0.797362\tvalid's QWK: 0.775497\n",
      "Evaluated only: QWK\n"
     ]
    },
    {
     "data": {
      "image/png": "[encoded data removed]",
      "text/plain": [
       "<Figure size 640x480 with 2 Axes>"
      ]
     },
     "metadata": {},
     "output_type": "display_data"
    },
    {
     "name": "stdout",
     "output_type": "stream",
     "text": [
      "F1 score across fold: 0.5850552766923756\n",
      "Cohen kappa score across fold: 0.7754967428155564\n",
      "fold 5\n",
      "[LightGBM] [Info] Using self-defined objective function\n",
      "Training until validation scores don't improve for 75 rounds\n",
      "[25]\ttrain's QWK: 0.732312\tvalid's QWK: 0.73164\n",
      "[50]\ttrain's QWK: 0.759194\tvalid's QWK: 0.758424\n",
      "[75]\ttrain's QWK: 0.773117\tvalid's QWK: 0.761136\n",
      "[100]\ttrain's QWK: 0.781851\tvalid's QWK: 0.764079\n",
      "[125]\ttrain's QWK: 0.79111\tvalid's QWK: 0.763995\n",
      "[150]\ttrain's QWK: 0.79717\tvalid's QWK: 0.769237\n",
      "[175]\ttrain's QWK: 0.803095\tvalid's QWK: 0.771978\n",
      "[200]\ttrain's QWK: 0.807619\tvalid's QWK: 0.772637\n",
      "[225]\ttrain's QWK: 0.811644\tvalid's QWK: 0.774973\n",
      "[250]\ttrain's QWK: 0.815565\tvalid's QWK: 0.77483\n",
      "[275]\ttrain's QWK: 0.819593\tvalid's QWK: 0.775479\n",
      "[300]\ttrain's QWK: 0.822723\tvalid's QWK: 0.775458\n",
      "[325]\ttrain's QWK: 0.826872\tvalid's QWK: 0.775683\n",
      "[350]\ttrain's QWK: 0.830376\tvalid's QWK: 0.774443\n",
      "[375]\ttrain's QWK: 0.833901\tvalid's QWK: 0.770992\n",
      "Early stopping, best iteration is:\n",
      "[312]\ttrain's QWK: 0.825345\tvalid's QWK: 0.779517\n",
      "Evaluated only: QWK\n"
     ]
    },
    {
     "data": {
      "image/png": "[encoded data removed]",
      "text/plain": [
       "<Figure size 640x480 with 2 Axes>"
      ]
     },
     "metadata": {},
     "output_type": "display_data"
    },
    {
     "name": "stdout",
     "output_type": "stream",
     "text": [
      "F1 score across fold: 0.5941540106628487\n",
      "Cohen kappa score across fold: 0.7795172982362336\n",
      "fold 6\n",
      "[LightGBM] [Info] Using self-defined objective function\n",
      "Training until validation scores don't improve for 75 rounds\n",
      "[25]\ttrain's QWK: 0.728718\tvalid's QWK: 0.750106\n",
      "[50]\ttrain's QWK: 0.758181\tvalid's QWK: 0.771431\n",
      "[75]\ttrain's QWK: 0.775621\tvalid's QWK: 0.777679\n",
      "[100]\ttrain's QWK: 0.783872\tvalid's QWK: 0.778724\n",
      "[125]\ttrain's QWK: 0.788876\tvalid's QWK: 0.778324\n",
      "[150]\ttrain's QWK: 0.795906\tvalid's QWK: 0.778899\n",
      "Early stopping, best iteration is:\n",
      "[95]\ttrain's QWK: 0.782635\tvalid's QWK: 0.780222\n",
      "Evaluated only: QWK\n"
     ]
    },
    {
     "data": {
      "image/png": "[encoded data removed]",
      "text/plain": [
       "<Figure size 640x480 with 2 Axes>"
      ]
     },
     "metadata": {},
     "output_type": "display_data"
    },
    {
     "name": "stdout",
     "output_type": "stream",
     "text": [
      "F1 score across fold: 0.5998502701243741\n",
      "Cohen kappa score across fold: 0.7802222978082246\n",
      "fold 7\n",
      "[LightGBM] [Info] Using self-defined objective function\n",
      "Training until validation scores don't improve for 75 rounds\n",
      "[25]\ttrain's QWK: 0.732608\tvalid's QWK: 0.725449\n",
      "[50]\ttrain's QWK: 0.759553\tvalid's QWK: 0.737805\n",
      "[75]\ttrain's QWK: 0.773428\tvalid's QWK: 0.74158\n",
      "[100]\ttrain's QWK: 0.783118\tvalid's QWK: 0.756243\n",
      "[125]\ttrain's QWK: 0.789946\tvalid's QWK: 0.766078\n",
      "[150]\ttrain's QWK: 0.79681\tvalid's QWK: 0.764479\n",
      "[175]\ttrain's QWK: 0.800534\tvalid's QWK: 0.76879\n",
      "[200]\ttrain's QWK: 0.806831\tvalid's QWK: 0.769828\n",
      "[225]\ttrain's QWK: 0.810778\tvalid's QWK: 0.771472\n",
      "[250]\ttrain's QWK: 0.815471\tvalid's QWK: 0.771421\n",
      "[275]\ttrain's QWK: 0.818331\tvalid's QWK: 0.77042\n",
      "Early stopping, best iteration is:\n",
      "[218]\ttrain's QWK: 0.80961\tvalid's QWK: 0.773387\n",
      "Evaluated only: QWK\n"
     ]
    },
    {
     "data": {
      "image/png": "[encoded data removed]",
      "text/plain": [
       "<Figure size 640x480 with 2 Axes>"
      ]
     },
     "metadata": {},
     "output_type": "display_data"
    },
    {
     "name": "stdout",
     "output_type": "stream",
     "text": [
      "F1 score across fold: 0.587926717674788\n",
      "Cohen kappa score across fold: 0.773386562714782\n",
      "fold 8\n",
      "[LightGBM] [Info] Using self-defined objective function\n",
      "Training until validation scores don't improve for 75 rounds\n",
      "[25]\ttrain's QWK: 0.72983\tvalid's QWK: 0.717907\n",
      "[50]\ttrain's QWK: 0.757779\tvalid's QWK: 0.744298\n",
      "[75]\ttrain's QWK: 0.772245\tvalid's QWK: 0.756967\n",
      "[100]\ttrain's QWK: 0.780963\tvalid's QWK: 0.77125\n",
      "[125]\ttrain's QWK: 0.789667\tvalid's QWK: 0.772416\n",
      "[150]\ttrain's QWK: 0.79654\tvalid's QWK: 0.77267\n",
      "[175]\ttrain's QWK: 0.80109\tvalid's QWK: 0.776806\n",
      "[200]\ttrain's QWK: 0.805749\tvalid's QWK: 0.775349\n",
      "[225]\ttrain's QWK: 0.809914\tvalid's QWK: 0.77985\n",
      "[250]\ttrain's QWK: 0.814989\tvalid's QWK: 0.779528\n",
      "[275]\ttrain's QWK: 0.818582\tvalid's QWK: 0.77848\n",
      "[300]\ttrain's QWK: 0.822933\tvalid's QWK: 0.780121\n",
      "[325]\ttrain's QWK: 0.825774\tvalid's QWK: 0.779371\n",
      "[350]\ttrain's QWK: 0.82955\tvalid's QWK: 0.778006\n",
      "[375]\ttrain's QWK: 0.831722\tvalid's QWK: 0.780279\n",
      "Early stopping, best iteration is:\n",
      "[320]\ttrain's QWK: 0.825472\tvalid's QWK: 0.781597\n",
      "Evaluated only: QWK\n"
     ]
    },
    {
     "data": {
      "image/png": "[encoded data removed]",
      "text/plain": [
       "<Figure size 640x480 with 2 Axes>"
      ]
     },
     "metadata": {},
     "output_type": "display_data"
    },
    {
     "name": "stdout",
     "output_type": "stream",
     "text": [
      "F1 score across fold: 0.6065017791330922\n",
      "Cohen kappa score across fold: 0.7815965311600173\n",
      "fold 9\n",
      "[LightGBM] [Info] Using self-defined objective function\n",
      "Training until validation scores don't improve for 75 rounds\n",
      "[25]\ttrain's QWK: 0.732646\tvalid's QWK: 0.705823\n",
      "[50]\ttrain's QWK: 0.76045\tvalid's QWK: 0.737623\n",
      "[75]\ttrain's QWK: 0.774774\tvalid's QWK: 0.741818\n",
      "[100]\ttrain's QWK: 0.782832\tvalid's QWK: 0.742926\n",
      "[125]\ttrain's QWK: 0.791196\tvalid's QWK: 0.751201\n",
      "[150]\ttrain's QWK: 0.797723\tvalid's QWK: 0.754503\n",
      "[175]\ttrain's QWK: 0.803448\tvalid's QWK: 0.753352\n",
      "[200]\ttrain's QWK: 0.808708\tvalid's QWK: 0.754482\n",
      "[225]\ttrain's QWK: 0.813289\tvalid's QWK: 0.758634\n",
      "[250]\ttrain's QWK: 0.816525\tvalid's QWK: 0.758645\n",
      "[275]\ttrain's QWK: 0.819965\tvalid's QWK: 0.760469\n",
      "[300]\ttrain's QWK: 0.822353\tvalid's QWK: 0.75881\n",
      "[325]\ttrain's QWK: 0.825752\tvalid's QWK: 0.759203\n",
      "[350]\ttrain's QWK: 0.82948\tvalid's QWK: 0.759222\n",
      "Early stopping, best iteration is:\n",
      "[287]\ttrain's QWK: 0.821407\tvalid's QWK: 0.763259\n",
      "Evaluated only: QWK\n"
     ]
    },
    {
     "data": {
      "image/png": "[encoded data removed]",
      "text/plain": [
       "<Figure size 640x480 with 2 Axes>"
      ]
     },
     "metadata": {},
     "output_type": "display_data"
    },
    {
     "name": "stdout",
     "output_type": "stream",
     "text": [
      "F1 score across fold: 0.5826191757395958\n",
      "Cohen kappa score across fold: 0.7632593218285162\n",
      "fold 10\n",
      "[LightGBM] [Info] Using self-defined objective function\n",
      "Training until validation scores don't improve for 75 rounds\n",
      "[25]\ttrain's QWK: 0.730598\tvalid's QWK: 0.706061\n",
      "[50]\ttrain's QWK: 0.758478\tvalid's QWK: 0.732701\n",
      "[75]\ttrain's QWK: 0.772655\tvalid's QWK: 0.757456\n",
      "[100]\ttrain's QWK: 0.784756\tvalid's QWK: 0.762694\n",
      "[125]\ttrain's QWK: 0.791734\tvalid's QWK: 0.768648\n",
      "[150]\ttrain's QWK: 0.797547\tvalid's QWK: 0.775401\n",
      "[175]\ttrain's QWK: 0.802798\tvalid's QWK: 0.773278\n",
      "[200]\ttrain's QWK: 0.807075\tvalid's QWK: 0.772165\n",
      "[225]\ttrain's QWK: 0.812176\tvalid's QWK: 0.773253\n",
      "Early stopping, best iteration is:\n",
      "[150]\ttrain's QWK: 0.797547\tvalid's QWK: 0.775401\n",
      "Evaluated only: QWK\n"
     ]
    },
    {
     "data": {
      "image/png": "[encoded data removed]",
      "text/plain": [
       "<Figure size 640x480 with 2 Axes>"
      ]
     },
     "metadata": {},
     "output_type": "display_data"
    },
    {
     "name": "stdout",
     "output_type": "stream",
     "text": [
      "F1 score across fold: 0.5640112436675752\n",
      "Cohen kappa score across fold: 0.7754013131060071\n",
      "fold 11\n",
      "[LightGBM] [Info] Using self-defined objective function\n",
      "Training until validation scores don't improve for 75 rounds\n",
      "[25]\ttrain's QWK: 0.731059\tvalid's QWK: 0.733392\n",
      "[50]\ttrain's QWK: 0.761523\tvalid's QWK: 0.75585\n",
      "[75]\ttrain's QWK: 0.774807\tvalid's QWK: 0.761219\n",
      "[100]\ttrain's QWK: 0.784151\tvalid's QWK: 0.762836\n",
      "[125]\ttrain's QWK: 0.791204\tvalid's QWK: 0.765505\n",
      "[150]\ttrain's QWK: 0.797585\tvalid's QWK: 0.763948\n",
      "[175]\ttrain's QWK: 0.80286\tvalid's QWK: 0.766975\n",
      "[200]\ttrain's QWK: 0.807194\tvalid's QWK: 0.769898\n",
      "[225]\ttrain's QWK: 0.810956\tvalid's QWK: 0.767866\n",
      "[250]\ttrain's QWK: 0.814712\tvalid's QWK: 0.769151\n",
      "[275]\ttrain's QWK: 0.819105\tvalid's QWK: 0.771116\n",
      "[300]\ttrain's QWK: 0.822815\tvalid's QWK: 0.772713\n",
      "[325]\ttrain's QWK: 0.826437\tvalid's QWK: 0.772696\n",
      "[350]\ttrain's QWK: 0.829392\tvalid's QWK: 0.772308\n",
      "[375]\ttrain's QWK: 0.832909\tvalid's QWK: 0.775291\n",
      "Early stopping, best iteration is:\n",
      "[313]\ttrain's QWK: 0.824716\tvalid's QWK: 0.776691\n",
      "Evaluated only: QWK\n"
     ]
    },
    {
     "data": {
      "image/png": "[encoded data removed]",
      "text/plain": [
       "<Figure size 640x480 with 2 Axes>"
      ]
     },
     "metadata": {},
     "output_type": "display_data"
    },
    {
     "name": "stdout",
     "output_type": "stream",
     "text": [
      "F1 score across fold: 0.5894531907222155\n",
      "Cohen kappa score across fold: 0.7766914732522334\n",
      "fold 12\n",
      "[LightGBM] [Info] Using self-defined objective function\n",
      "Training until validation scores don't improve for 75 rounds\n",
      "[25]\ttrain's QWK: 0.732767\tvalid's QWK: 0.709411\n",
      "[50]\ttrain's QWK: 0.759294\tvalid's QWK: 0.735565\n",
      "[75]\ttrain's QWK: 0.775296\tvalid's QWK: 0.751487\n",
      "[100]\ttrain's QWK: 0.784213\tvalid's QWK: 0.762885\n",
      "[125]\ttrain's QWK: 0.791392\tvalid's QWK: 0.767091\n",
      "[150]\ttrain's QWK: 0.797258\tvalid's QWK: 0.77031\n",
      "[175]\ttrain's QWK: 0.802158\tvalid's QWK: 0.769243\n",
      "[200]\ttrain's QWK: 0.807046\tvalid's QWK: 0.774111\n",
      "[225]\ttrain's QWK: 0.811582\tvalid's QWK: 0.77466\n",
      "[250]\ttrain's QWK: 0.816053\tvalid's QWK: 0.771559\n",
      "[275]\ttrain's QWK: 0.819782\tvalid's QWK: 0.774786\n",
      "[300]\ttrain's QWK: 0.823347\tvalid's QWK: 0.776012\n",
      "[325]\ttrain's QWK: 0.826395\tvalid's QWK: 0.771661\n",
      "[350]\ttrain's QWK: 0.82965\tvalid's QWK: 0.775065\n",
      "[375]\ttrain's QWK: 0.833514\tvalid's QWK: 0.774853\n",
      "[400]\ttrain's QWK: 0.836172\tvalid's QWK: 0.777048\n",
      "[425]\ttrain's QWK: 0.838731\tvalid's QWK: 0.774723\n",
      "[450]\ttrain's QWK: 0.840794\tvalid's QWK: 0.775989\n",
      "[475]\ttrain's QWK: 0.844607\tvalid's QWK: 0.775403\n",
      "Early stopping, best iteration is:\n",
      "[412]\ttrain's QWK: 0.83664\tvalid's QWK: 0.778512\n",
      "Evaluated only: QWK\n"
     ]
    },
    {
     "data": {
      "image/png": "[encoded data removed]",
      "text/plain": [
       "<Figure size 640x480 with 2 Axes>"
      ]
     },
     "metadata": {},
     "output_type": "display_data"
    },
    {
     "name": "stdout",
     "output_type": "stream",
     "text": [
      "F1 score across fold: 0.5894147393724213\n",
      "Cohen kappa score across fold: 0.7785122395292245\n",
      "fold 13\n",
      "[LightGBM] [Info] Using self-defined objective function\n",
      "Training until validation scores don't improve for 75 rounds\n",
      "[25]\ttrain's QWK: 0.731408\tvalid's QWK: 0.726553\n",
      "[50]\ttrain's QWK: 0.760747\tvalid's QWK: 0.747038\n",
      "[75]\ttrain's QWK: 0.774136\tvalid's QWK: 0.747717\n",
      "[100]\ttrain's QWK: 0.783038\tvalid's QWK: 0.752788\n",
      "[125]\ttrain's QWK: 0.790339\tvalid's QWK: 0.752863\n",
      "[150]\ttrain's QWK: 0.796571\tvalid's QWK: 0.751039\n",
      "[175]\ttrain's QWK: 0.802246\tvalid's QWK: 0.75384\n",
      "[200]\ttrain's QWK: 0.807574\tvalid's QWK: 0.757921\n",
      "[225]\ttrain's QWK: 0.812324\tvalid's QWK: 0.75923\n",
      "[250]\ttrain's QWK: 0.815265\tvalid's QWK: 0.763118\n",
      "[275]\ttrain's QWK: 0.819873\tvalid's QWK: 0.764411\n",
      "[300]\ttrain's QWK: 0.822345\tvalid's QWK: 0.765223\n",
      "[325]\ttrain's QWK: 0.826305\tvalid's QWK: 0.766288\n",
      "[350]\ttrain's QWK: 0.829822\tvalid's QWK: 0.767904\n",
      "[375]\ttrain's QWK: 0.832837\tvalid's QWK: 0.76888\n",
      "[400]\ttrain's QWK: 0.83564\tvalid's QWK: 0.767651\n",
      "[425]\ttrain's QWK: 0.838137\tvalid's QWK: 0.768617\n",
      "[450]\ttrain's QWK: 0.841055\tvalid's QWK: 0.768868\n",
      "[475]\ttrain's QWK: 0.844261\tvalid's QWK: 0.763273\n",
      "[500]\ttrain's QWK: 0.846381\tvalid's QWK: 0.765682\n",
      "Early stopping, best iteration is:\n",
      "[438]\ttrain's QWK: 0.839254\tvalid's QWK: 0.770953\n",
      "Evaluated only: QWK\n"
     ]
    },
    {
     "data": {
      "image/png": "[encoded data removed]",
      "text/plain": [
       "<Figure size 640x480 with 2 Axes>"
      ]
     },
     "metadata": {},
     "output_type": "display_data"
    },
    {
     "name": "stdout",
     "output_type": "stream",
     "text": [
      "F1 score across fold: 0.5840897202972765\n",
      "Cohen kappa score across fold: 0.7709527879629318\n",
      "fold 14\n",
      "[LightGBM] [Info] Using self-defined objective function\n",
      "Training until validation scores don't improve for 75 rounds\n",
      "[25]\ttrain's QWK: 0.731109\tvalid's QWK: 0.716192\n",
      "[50]\ttrain's QWK: 0.759501\tvalid's QWK: 0.739745\n",
      "[75]\ttrain's QWK: 0.775379\tvalid's QWK: 0.750783\n",
      "[100]\ttrain's QWK: 0.784869\tvalid's QWK: 0.755861\n",
      "[125]\ttrain's QWK: 0.793063\tvalid's QWK: 0.761321\n",
      "[150]\ttrain's QWK: 0.797552\tvalid's QWK: 0.763243\n",
      "[175]\ttrain's QWK: 0.803779\tvalid's QWK: 0.763812\n",
      "[200]\ttrain's QWK: 0.807942\tvalid's QWK: 0.76174\n",
      "[225]\ttrain's QWK: 0.812307\tvalid's QWK: 0.759953\n",
      "Early stopping, best iteration is:\n",
      "[172]\ttrain's QWK: 0.802888\tvalid's QWK: 0.766448\n",
      "Evaluated only: QWK\n"
     ]
    },
    {
     "data": {
      "image/png": "[encoded data removed]",
      "text/plain": [
       "<Figure size 640x480 with 2 Axes>"
      ]
     },
     "metadata": {},
     "output_type": "display_data"
    },
    {
     "name": "stdout",
     "output_type": "stream",
     "text": [
      "F1 score across fold: 0.585275123562793\n",
      "Cohen kappa score across fold: 0.7664483837033582\n",
      "fold 15\n",
      "[LightGBM] [Info] Using self-defined objective function\n",
      "Training until validation scores don't improve for 75 rounds\n",
      "[25]\ttrain's QWK: 0.731688\tvalid's QWK: 0.72966\n",
      "[50]\ttrain's QWK: 0.759924\tvalid's QWK: 0.751259\n",
      "[75]\ttrain's QWK: 0.772985\tvalid's QWK: 0.760257\n",
      "[100]\ttrain's QWK: 0.782631\tvalid's QWK: 0.767291\n",
      "[125]\ttrain's QWK: 0.78829\tvalid's QWK: 0.765933\n",
      "[150]\ttrain's QWK: 0.796774\tvalid's QWK: 0.775022\n",
      "[175]\ttrain's QWK: 0.802846\tvalid's QWK: 0.774028\n",
      "[200]\ttrain's QWK: 0.807708\tvalid's QWK: 0.774802\n",
      "[225]\ttrain's QWK: 0.812086\tvalid's QWK: 0.774577\n",
      "Early stopping, best iteration is:\n",
      "[153]\ttrain's QWK: 0.797554\tvalid's QWK: 0.776557\n",
      "Evaluated only: QWK\n"
     ]
    },
    {
     "data": {
      "image/png": "[encoded data removed]",
      "text/plain": [
       "<Figure size 640x480 with 2 Axes>"
      ]
     },
     "metadata": {},
     "output_type": "display_data"
    },
    {
     "name": "stdout",
     "output_type": "stream",
     "text": [
      "F1 score across fold: 0.6039621599632483\n",
      "Cohen kappa score across fold: 0.7765572001638651\n",
      "Mean F1 score across 15 folds: 0.5914721082308526\n",
      "Mean Cohen kappa score across 15 folds: 0.7751750647159585\n"
     ]
    }
   ],
   "source": [
    "# Define the number of splits for cross-validation\n",
    "n_splits = 15\n",
    "\n",
    "# Initialize StratifiedKFold with the specified number of splits\n",
    "skf = StratifiedKFold(n_splits=n_splits, shuffle=True, random_state=0)\n",
    "\n",
    "# Lists to store scores\n",
    "f1_scores = []\n",
    "kappa_scores = []\n",
    "models = []\n",
    "predictions = []\n",
    "callbacks = [log_evaluation(period=25), early_stopping(stopping_rounds=75,first_metric_only=True)]\n",
    "# Loop through each fold of the cross-validation\n",
    "i=1\n",
    "for train_index, test_index in skf.split(X, y_split):\n",
    "    # Split the data into training and testing sets for this fold\n",
    "    print('fold',i)\n",
    "    X_train_fold, X_test_fold = X[train_index], X[test_index]\n",
    "    y_train_fold, y_test_fold, y_test_fold_int = y[train_index], y[test_index], y_split[test_index]\n",
    "    \n",
    "    model = lgb.LGBMRegressor(\n",
    "                objective = qwk_obj,\n",
    "                metrics = 'None',\n",
    "                learning_rate = 0.1,\n",
    "                max_depth = 5,\n",
    "                num_leaves = 10,\n",
    "                colsample_bytree=0.5,\n",
    "                reg_alpha = 0.1,\n",
    "                reg_lambda = 0.8,\n",
    "                n_estimators=1024,\n",
    "                random_state=42,\n",
    "                extra_trees=True,\n",
    "                class_weight='balanced',\n",
    "                device='gpu',\n",
    "                verbosity = - 1)\n",
    "\n",
    "    # Fit the model on the training data for this fold\n",
    "    \n",
    "    predictor = model.fit(X_train_fold,\n",
    "                                  y_train_fold,\n",
    "                                  eval_names=['train', 'valid'],\n",
    "                                  eval_set=[(X_train_fold, y_train_fold), (X_test_fold, y_test_fold)],\n",
    "                                  eval_metric=quadratic_weighted_kappa,\n",
    "                                  callbacks=callbacks,)\n",
    "    models.append(predictor)\n",
    "    # Make predictions on the test data for this fold\n",
    "    predictions_fold = predictor.predict(X_test_fold)\n",
    "    predictions_fold = predictions_fold + a\n",
    "    predictions_fold = predictions_fold.clip(1, 6).round()\n",
    "    predictions.append(predictions_fold)\n",
    "    # Calculate and store the F1 score for this fold\n",
    "    f1_fold = f1_score(y_test_fold_int, predictions_fold, average='weighted')\n",
    "    f1_scores.append(f1_fold)\n",
    "    \n",
    "    # Calculate and store the Cohen's kappa score for this fold\n",
    "    kappa_fold = cohen_kappa_score(y_test_fold_int, predictions_fold, weights='quadratic')\n",
    "    kappa_scores.append(kappa_fold)\n",
    "    \n",
    "    # Calculating the confusion matrix\n",
    "    cm = confusion_matrix(y_test_fold_int, predictions_fold, labels=[x for x in range(1,7)])\n",
    "\n",
    "    # Displaying the confusion matrix\n",
    "    disp = ConfusionMatrixDisplay(confusion_matrix=cm,\n",
    "                                  display_labels=[x for x in range(1,7)])\n",
    "    disp.plot()\n",
    "    plt.show()\n",
    "    print(f'F1 score across fold: {f1_fold}')\n",
    "    print(f'Cohen kappa score across fold: {kappa_fold}')\n",
    "    i+=1\n",
    "# Calculate the mean scores across all folds\n",
    "mean_f1_score = np.mean(f1_scores)\n",
    "mean_kappa_score = np.mean(kappa_scores)\n",
    "\n",
    "# Print the mean scores\n",
    "print(f'Mean F1 score across {n_splits} folds: {mean_f1_score}')\n",
    "print(f'Mean Cohen kappa score across {n_splits} folds: {mean_kappa_score}')"
   ]
  },
  {
   "cell_type": "markdown",
   "id": "9d22b439",
   "metadata": {
    "papermill": {
     "duration": 0.033523,
     "end_time": "2024-06-04T13:59:32.814164",
     "exception": false,
     "start_time": "2024-06-04T13:59:32.780641",
     "status": "completed"
    },
    "tags": []
   },
   "source": [
    "### Inference"
   ]
  },
  {
   "cell_type": "code",
   "execution_count": 13,
   "id": "ac82c4c7",
   "metadata": {
    "execution": {
     "iopub.execute_input": "2024-06-04T13:59:32.883491Z",
     "iopub.status.busy": "2024-06-04T13:59:32.882781Z",
     "iopub.status.idle": "2024-06-04T13:59:32.907711Z",
     "shell.execute_reply": "2024-06-04T13:59:32.906451Z"
    },
    "papermill": {
     "duration": 0.061942,
     "end_time": "2024-06-04T13:59:32.909756",
     "exception": false,
     "start_time": "2024-06-04T13:59:32.847814",
     "status": "completed"
    },
    "tags": []
   },
   "outputs": [
    {
     "name": "stdout",
     "output_type": "stream",
     "text": [
      "[2. 3. 4.]\n"
     ]
    }
   ],
   "source": [
    "probabilities = []\n",
    "for model in models:\n",
    "    proba= model.predict(dstr_hidden['test']['hidden_state'].numpy())+ a\n",
    "    probabilities.append(proba)\n",
    "# Compute the average probabilities across all models\n",
    "predictions = np.mean(probabilities, axis=0)\n",
    "\n",
    "predictions = np.round(predictions.clip(1, 6))\n",
    "\n",
    "# Print the predictions\n",
    "print(predictions)\n"
   ]
  },
  {
   "cell_type": "code",
   "execution_count": 14,
   "id": "11550960",
   "metadata": {
    "execution": {
     "iopub.execute_input": "2024-06-04T13:59:32.982969Z",
     "iopub.status.busy": "2024-06-04T13:59:32.982158Z",
     "iopub.status.idle": "2024-06-04T13:59:33.007670Z",
     "shell.execute_reply": "2024-06-04T13:59:33.006757Z"
    },
    "papermill": {
     "duration": 0.062728,
     "end_time": "2024-06-04T13:59:33.009516",
     "exception": false,
     "start_time": "2024-06-04T13:59:32.946788",
     "status": "completed"
    },
    "tags": []
   },
   "outputs": [
    {
     "data": {
      "text/html": [
       "<div>\n",
       "<style scoped>\n",
       "    .dataframe tbody tr th:only-of-type {\n",
       "        vertical-align: middle;\n",
       "    }\n",
       "\n",
       "    .dataframe tbody tr th {\n",
       "        vertical-align: top;\n",
       "    }\n",
       "\n",
       "    .dataframe thead th {\n",
       "        text-align: right;\n",
       "    }\n",
       "</style>\n",
       "<table border=\"1\" class=\"dataframe\">\n",
       "  <thead>\n",
       "    <tr style=\"text-align: right;\">\n",
       "      <th></th>\n",
       "      <th>essay_id</th>\n",
       "      <th>score</th>\n",
       "    </tr>\n",
       "  </thead>\n",
       "  <tbody>\n",
       "    <tr>\n",
       "      <th>0</th>\n",
       "      <td>000d118</td>\n",
       "      <td>2</td>\n",
       "    </tr>\n",
       "    <tr>\n",
       "      <th>1</th>\n",
       "      <td>000fe60</td>\n",
       "      <td>3</td>\n",
       "    </tr>\n",
       "    <tr>\n",
       "      <th>2</th>\n",
       "      <td>001ab80</td>\n",
       "      <td>4</td>\n",
       "    </tr>\n",
       "  </tbody>\n",
       "</table>\n",
       "</div>"
      ],
      "text/plain": [
       "  essay_id  score\n",
       "0  000d118      2\n",
       "1  000fe60      3\n",
       "2  001ab80      4"
      ]
     },
     "metadata": {},
     "output_type": "display_data"
    }
   ],
   "source": [
    "submission=pd.read_csv(\"/kaggle/input/learning-agency-lab-automated-essay-scoring-2/sample_submission.csv\")\n",
    "submission['score']=predictions\n",
    "submission['score']=submission['score'].astype(int)\n",
    "submission.to_csv(\"submission.csv\",index=None)\n",
    "display(submission.head())"
   ]
  }
 ],
 "metadata": {
  "kaggle": {
   "accelerator": "gpu",
   "dataSources": [
    {
     "databundleVersionId": 8059942,
     "sourceId": 71485,
     "sourceType": "competition"
    },
    {
     "modelInstanceId": 43512,
     "sourceId": 51730,
     "sourceType": "modelInstanceVersion"
    }
   ],
   "dockerImageVersionId": 30683,
   "isGpuEnabled": true,
   "isInternetEnabled": false,
   "language": "python",
   "sourceType": "notebook"
  },
  "kernelspec": {
   "display_name": "Python 3",
   "language": "python",
   "name": "python3"
  },
  "language_info": {
   "codemirror_mode": {
    "name": "ipython",
    "version": 3
   },
   "file_extension": ".py",
   "mimetype": "text/x-python",
   "name": "python",
   "nbconvert_exporter": "python",
   "pygments_lexer": "ipython3",
   "version": "3.10.13"
  },
  "papermill": {
   "default_parameters": {},
   "duration": 1822.935157,
   "end_time": "2024-06-04T13:59:35.690002",
   "environment_variables": {},
   "exception": null,
   "input_path": "__notebook__.ipynb",
   "output_path": "__notebook__.ipynb",
   "parameters": {},
   "start_time": "2024-06-04T13:29:12.754845",
   "version": "2.5.0"
  },
  "widgets": {
   "application/vnd.jupyter.widget-state+json": {
    "state": {
     "098cdceb452242fca86fc7138f4dca35": {
      "model_module": "@jupyter-widgets/controls",
      "model_module_version": "1.5.0",
      "model_name": "DescriptionStyleModel",
      "state": {
       "_model_module": "@jupyter-widgets/controls",
       "_model_module_version": "1.5.0",
       "_model_name": "DescriptionStyleModel",
       "_view_count": null,
       "_view_module": "@jupyter-widgets/base",
       "_view_module_version": "1.2.0",
       "_view_name": "StyleView",
       "description_width": ""
      }
     },
     "1bbdf17e9ab3435b91f3850a47d7b3e7": {
      "model_module": "@jupyter-widgets/base",
      "model_module_version": "1.2.0",
      "model_name": "LayoutModel",
      "state": {
       "_model_module": "@jupyter-widgets/base",
       "_model_module_version": "1.2.0",
       "_model_name": "LayoutModel",
       "_view_count": null,
       "_view_module": "@jupyter-widgets/base",
       "_view_module_version": "1.2.0",
       "_view_name": "LayoutView",
       "align_content": null,
       "align_items": null,
       "align_self": null,
       "border": null,
       "bottom": null,
       "display": null,
       "flex": null,
       "flex_flow": null,
       "grid_area": null,
       "grid_auto_columns": null,
       "grid_auto_flow": null,
       "grid_auto_rows": null,
       "grid_column": null,
       "grid_gap": null,
       "grid_row": null,
       "grid_template_areas": null,
       "grid_template_columns": null,
       "grid_template_rows": null,
       "height": null,
       "justify_content": null,
       "justify_items": null,
       "left": null,
       "margin": null,
       "max_height": null,
       "max_width": null,
       "min_height": null,
       "min_width": null,
       "object_fit": null,
       "object_position": null,
       "order": null,
       "overflow": null,
       "overflow_x": null,
       "overflow_y": null,
       "padding": null,
       "right": null,
       "top": null,
       "visibility": null,
       "width": null
      }
     },
     "1e5c974ead14463dab94c78b42f47bfd": {
      "model_module": "@jupyter-widgets/controls",
      "model_module_version": "1.5.0",
      "model_name": "DescriptionStyleModel",
      "state": {
       "_model_module": "@jupyter-widgets/controls",
       "_model_module_version": "1.5.0",
       "_model_name": "DescriptionStyleModel",
       "_view_count": null,
       "_view_module": "@jupyter-widgets/base",
       "_view_module_version": "1.2.0",
       "_view_name": "StyleView",
       "description_width": ""
      }
     },
     "21bf69c1860542c3a2fd5edec6f67a03": {
      "model_module": "@jupyter-widgets/controls",
      "model_module_version": "1.5.0",
      "model_name": "HBoxModel",
      "state": {
       "_dom_classes": [],
       "_model_module": "@jupyter-widgets/controls",
       "_model_module_version": "1.5.0",
       "_model_name": "HBoxModel",
       "_view_count": null,
       "_view_module": "@jupyter-widgets/controls",
       "_view_module_version": "1.5.0",
       "_view_name": "HBoxView",
       "box_style": "",
       "children": [
        "IPY_MODEL_5f91068d51804c658cc23776db70af68",
        "IPY_MODEL_7362d4cd76cf4db19268c6415510f8db",
        "IPY_MODEL_d54eb2ff737b40e5ae43401724160ce3"
       ],
       "layout": "IPY_MODEL_cc80233f1ecb42f9aa398839ab97e405"
      }
     },
     "36dfc4b8c90a45c9b18c56f8b94e729c": {
      "model_module": "@jupyter-widgets/controls",
      "model_module_version": "1.5.0",
      "model_name": "HTMLModel",
      "state": {
       "_dom_classes": [],
       "_model_module": "@jupyter-widgets/controls",
       "_model_module_version": "1.5.0",
       "_model_name": "HTMLModel",
       "_view_count": null,
       "_view_module": "@jupyter-widgets/controls",
       "_view_module_version": "1.5.0",
       "_view_name": "HTMLView",
       "description": "",
       "description_tooltip": null,
       "layout": "IPY_MODEL_ef64c9c8a8c04f449abf0b0be7d982d7",
       "placeholder": "​",
       "style": "IPY_MODEL_c4d225da02ea4307bb85d850bcd95790",
       "value": " 17307/17307 [23:14&lt;00:00, 13.45 examples/s]"
      }
     },
     "380aefb6c8374d27b32b9ea5be313d01": {
      "model_module": "@jupyter-widgets/controls",
      "model_module_version": "1.5.0",
      "model_name": "FloatProgressModel",
      "state": {
       "_dom_classes": [],
       "_model_module": "@jupyter-widgets/controls",
       "_model_module_version": "1.5.0",
       "_model_name": "FloatProgressModel",
       "_view_count": null,
       "_view_module": "@jupyter-widgets/controls",
       "_view_module_version": "1.5.0",
       "_view_name": "ProgressView",
       "bar_style": "success",
       "description": "",
       "description_tooltip": null,
       "layout": "IPY_MODEL_3c562756cf7e4ecf86eeddf10a83a23f",
       "max": 3.0,
       "min": 0.0,
       "orientation": "horizontal",
       "style": "IPY_MODEL_ed6345413a664a87a431cbf69187760b",
       "value": 3.0
      }
     },
     "39aab7c4b2c146a7846bcf5070d64c8a": {
      "model_module": "@jupyter-widgets/controls",
      "model_module_version": "1.5.0",
      "model_name": "DescriptionStyleModel",
      "state": {
       "_model_module": "@jupyter-widgets/controls",
       "_model_module_version": "1.5.0",
       "_model_name": "DescriptionStyleModel",
       "_view_count": null,
       "_view_module": "@jupyter-widgets/base",
       "_view_module_version": "1.2.0",
       "_view_name": "StyleView",
       "description_width": ""
      }
     },
     "3c562756cf7e4ecf86eeddf10a83a23f": {
      "model_module": "@jupyter-widgets/base",
      "model_module_version": "1.2.0",
      "model_name": "LayoutModel",
      "state": {
       "_model_module": "@jupyter-widgets/base",
       "_model_module_version": "1.2.0",
       "_model_name": "LayoutModel",
       "_view_count": null,
       "_view_module": "@jupyter-widgets/base",
       "_view_module_version": "1.2.0",
       "_view_name": "LayoutView",
       "align_content": null,
       "align_items": null,
       "align_self": null,
       "border": null,
       "bottom": null,
       "display": null,
       "flex": null,
       "flex_flow": null,
       "grid_area": null,
       "grid_auto_columns": null,
       "grid_auto_flow": null,
       "grid_auto_rows": null,
       "grid_column": null,
       "grid_gap": null,
       "grid_row": null,
       "grid_template_areas": null,
       "grid_template_columns": null,
       "grid_template_rows": null,
       "height": null,
       "justify_content": null,
       "justify_items": null,
       "left": null,
       "margin": null,
       "max_height": null,
       "max_width": null,
       "min_height": null,
       "min_width": null,
       "object_fit": null,
       "object_position": null,
       "order": null,
       "overflow": null,
       "overflow_x": null,
       "overflow_y": null,
       "padding": null,
       "right": null,
       "top": null,
       "visibility": null,
       "width": null
      }
     },
     "4377fc1f0379492789f0b0ddb17048ed": {
      "model_module": "@jupyter-widgets/controls",
      "model_module_version": "1.5.0",
      "model_name": "ProgressStyleModel",
      "state": {
       "_model_module": "@jupyter-widgets/controls",
       "_model_module_version": "1.5.0",
       "_model_name": "ProgressStyleModel",
       "_view_count": null,
       "_view_module": "@jupyter-widgets/base",
       "_view_module_version": "1.2.0",
       "_view_name": "StyleView",
       "bar_color": null,
       "description_width": ""
      }
     },
     "45256700e4a24cdea9a2cacbb6c5ce80": {
      "model_module": "@jupyter-widgets/controls",
      "model_module_version": "1.5.0",
      "model_name": "HBoxModel",
      "state": {
       "_dom_classes": [],
       "_model_module": "@jupyter-widgets/controls",
       "_model_module_version": "1.5.0",
       "_model_name": "HBoxModel",
       "_view_count": null,
       "_view_module": "@jupyter-widgets/controls",
       "_view_module_version": "1.5.0",
       "_view_name": "HBoxView",
       "box_style": "",
       "children": [
        "IPY_MODEL_fe1958fc557a48e0b4cf70a4a199c28b",
        "IPY_MODEL_53826911ad6e48bf9fc9bdb4c0a13b86",
        "IPY_MODEL_36dfc4b8c90a45c9b18c56f8b94e729c"
       ],
       "layout": "IPY_MODEL_7bb7702d913242e88217df3ebce87a85"
      }
     },
     "461b70296da2408496a19629e53d8aba": {
      "model_module": "@jupyter-widgets/controls",
      "model_module_version": "1.5.0",
      "model_name": "HTMLModel",
      "state": {
       "_dom_classes": [],
       "_model_module": "@jupyter-widgets/controls",
       "_model_module_version": "1.5.0",
       "_model_name": "HTMLModel",
       "_view_count": null,
       "_view_module": "@jupyter-widgets/controls",
       "_view_module_version": "1.5.0",
       "_view_name": "HTMLView",
       "description": "",
       "description_tooltip": null,
       "layout": "IPY_MODEL_dae61337cc4a4322828e521e100454c5",
       "placeholder": "​",
       "style": "IPY_MODEL_750ba14c2f1c4a2db59b71be73f72b55",
       "value": "Map: 100%"
      }
     },
     "4c880dad08294e2cb10f2bc5fb29c0a1": {
      "model_module": "@jupyter-widgets/base",
      "model_module_version": "1.2.0",
      "model_name": "LayoutModel",
      "state": {
       "_model_module": "@jupyter-widgets/base",
       "_model_module_version": "1.2.0",
       "_model_name": "LayoutModel",
       "_view_count": null,
       "_view_module": "@jupyter-widgets/base",
       "_view_module_version": "1.2.0",
       "_view_name": "LayoutView",
       "align_content": null,
       "align_items": null,
       "align_self": null,
       "border": null,
       "bottom": null,
       "display": null,
       "flex": null,
       "flex_flow": null,
       "grid_area": null,
       "grid_auto_columns": null,
       "grid_auto_flow": null,
       "grid_auto_rows": null,
       "grid_column": null,
       "grid_gap": null,
       "grid_row": null,
       "grid_template_areas": null,
       "grid_template_columns": null,
       "grid_template_rows": null,
       "height": null,
       "justify_content": null,
       "justify_items": null,
       "left": null,
       "margin": null,
       "max_height": null,
       "max_width": null,
       "min_height": null,
       "min_width": null,
       "object_fit": null,
       "object_position": null,
       "order": null,
       "overflow": null,
       "overflow_x": null,
       "overflow_y": null,
       "padding": null,
       "right": null,
       "top": null,
       "visibility": null,
       "width": null
      }
     },
     "53826911ad6e48bf9fc9bdb4c0a13b86": {
      "model_module": "@jupyter-widgets/controls",
      "model_module_version": "1.5.0",
      "model_name": "FloatProgressModel",
      "state": {
       "_dom_classes": [],
       "_model_module": "@jupyter-widgets/controls",
       "_model_module_version": "1.5.0",
       "_model_name": "FloatProgressModel",
       "_view_count": null,
       "_view_module": "@jupyter-widgets/controls",
       "_view_module_version": "1.5.0",
       "_view_name": "ProgressView",
       "bar_style": "success",
       "description": "",
       "description_tooltip": null,
       "layout": "IPY_MODEL_8d25a865ec5343759951e70ffa11be5d",
       "max": 17307.0,
       "min": 0.0,
       "orientation": "horizontal",
       "style": "IPY_MODEL_4377fc1f0379492789f0b0ddb17048ed",
       "value": 17307.0
      }
     },
     "5409685934be440bb9a580e224fa9f32": {
      "model_module": "@jupyter-widgets/controls",
      "model_module_version": "1.5.0",
      "model_name": "DescriptionStyleModel",
      "state": {
       "_model_module": "@jupyter-widgets/controls",
       "_model_module_version": "1.5.0",
       "_model_name": "DescriptionStyleModel",
       "_view_count": null,
       "_view_module": "@jupyter-widgets/base",
       "_view_module_version": "1.2.0",
       "_view_name": "StyleView",
       "description_width": ""
      }
     },
     "5e4ec8ea57d1417899f039895d6541d9": {
      "model_module": "@jupyter-widgets/controls",
      "model_module_version": "1.5.0",
      "model_name": "HBoxModel",
      "state": {
       "_dom_classes": [],
       "_model_module": "@jupyter-widgets/controls",
       "_model_module_version": "1.5.0",
       "_model_name": "HBoxModel",
       "_view_count": null,
       "_view_module": "@jupyter-widgets/controls",
       "_view_module_version": "1.5.0",
       "_view_name": "HBoxView",
       "box_style": "",
       "children": [
        "IPY_MODEL_461b70296da2408496a19629e53d8aba",
        "IPY_MODEL_c574606579494d199ac455faa27d75db",
        "IPY_MODEL_fae3a8aed0b045919603ef45d029f600"
       ],
       "layout": "IPY_MODEL_f36e6be9ae2e40288fc819eb7c5bea0b"
      }
     },
     "5f91068d51804c658cc23776db70af68": {
      "model_module": "@jupyter-widgets/controls",
      "model_module_version": "1.5.0",
      "model_name": "HTMLModel",
      "state": {
       "_dom_classes": [],
       "_model_module": "@jupyter-widgets/controls",
       "_model_module_version": "1.5.0",
       "_model_name": "HTMLModel",
       "_view_count": null,
       "_view_module": "@jupyter-widgets/controls",
       "_view_module_version": "1.5.0",
       "_view_name": "HTMLView",
       "description": "",
       "description_tooltip": null,
       "layout": "IPY_MODEL_e163f1e35f8445f88d3852fb01396fbc",
       "placeholder": "​",
       "style": "IPY_MODEL_88bfd602ba274ca18a804cf16add5e59",
       "value": "Map: 100%"
      }
     },
     "607a17df9bd64c63a8b303ed0093549c": {
      "model_module": "@jupyter-widgets/base",
      "model_module_version": "1.2.0",
      "model_name": "LayoutModel",
      "state": {
       "_model_module": "@jupyter-widgets/base",
       "_model_module_version": "1.2.0",
       "_model_name": "LayoutModel",
       "_view_count": null,
       "_view_module": "@jupyter-widgets/base",
       "_view_module_version": "1.2.0",
       "_view_name": "LayoutView",
       "align_content": null,
       "align_items": null,
       "align_self": null,
       "border": null,
       "bottom": null,
       "display": null,
       "flex": null,
       "flex_flow": null,
       "grid_area": null,
       "grid_auto_columns": null,
       "grid_auto_flow": null,
       "grid_auto_rows": null,
       "grid_column": null,
       "grid_gap": null,
       "grid_row": null,
       "grid_template_areas": null,
       "grid_template_columns": null,
       "grid_template_rows": null,
       "height": null,
       "justify_content": null,
       "justify_items": null,
       "left": null,
       "margin": null,
       "max_height": null,
       "max_width": null,
       "min_height": null,
       "min_width": null,
       "object_fit": null,
       "object_position": null,
       "order": null,
       "overflow": null,
       "overflow_x": null,
       "overflow_y": null,
       "padding": null,
       "right": null,
       "top": null,
       "visibility": null,
       "width": null
      }
     },
     "646d66e4822c457396f4f4414ceffa62": {
      "model_module": "@jupyter-widgets/base",
      "model_module_version": "1.2.0",
      "model_name": "LayoutModel",
      "state": {
       "_model_module": "@jupyter-widgets/base",
       "_model_module_version": "1.2.0",
       "_model_name": "LayoutModel",
       "_view_count": null,
       "_view_module": "@jupyter-widgets/base",
       "_view_module_version": "1.2.0",
       "_view_name": "LayoutView",
       "align_content": null,
       "align_items": null,
       "align_self": null,
       "border": null,
       "bottom": null,
       "display": null,
       "flex": null,
       "flex_flow": null,
       "grid_area": null,
       "grid_auto_columns": null,
       "grid_auto_flow": null,
       "grid_auto_rows": null,
       "grid_column": null,
       "grid_gap": null,
       "grid_row": null,
       "grid_template_areas": null,
       "grid_template_columns": null,
       "grid_template_rows": null,
       "height": null,
       "justify_content": null,
       "justify_items": null,
       "left": null,
       "margin": null,
       "max_height": null,
       "max_width": null,
       "min_height": null,
       "min_width": null,
       "object_fit": null,
       "object_position": null,
       "order": null,
       "overflow": null,
       "overflow_x": null,
       "overflow_y": null,
       "padding": null,
       "right": null,
       "top": null,
       "visibility": null,
       "width": null
      }
     },
     "6915dc4d39c340ebacd7a5a414253f50": {
      "model_module": "@jupyter-widgets/controls",
      "model_module_version": "1.5.0",
      "model_name": "ProgressStyleModel",
      "state": {
       "_model_module": "@jupyter-widgets/controls",
       "_model_module_version": "1.5.0",
       "_model_name": "ProgressStyleModel",
       "_view_count": null,
       "_view_module": "@jupyter-widgets/base",
       "_view_module_version": "1.2.0",
       "_view_name": "StyleView",
       "bar_color": null,
       "description_width": ""
      }
     },
     "6cb87adc0bcc4b039bfacf6d06a69302": {
      "model_module": "@jupyter-widgets/controls",
      "model_module_version": "1.5.0",
      "model_name": "ProgressStyleModel",
      "state": {
       "_model_module": "@jupyter-widgets/controls",
       "_model_module_version": "1.5.0",
       "_model_name": "ProgressStyleModel",
       "_view_count": null,
       "_view_module": "@jupyter-widgets/base",
       "_view_module_version": "1.2.0",
       "_view_name": "StyleView",
       "bar_color": null,
       "description_width": ""
      }
     },
     "7362d4cd76cf4db19268c6415510f8db": {
      "model_module": "@jupyter-widgets/controls",
      "model_module_version": "1.5.0",
      "model_name": "FloatProgressModel",
      "state": {
       "_dom_classes": [],
       "_model_module": "@jupyter-widgets/controls",
       "_model_module_version": "1.5.0",
       "_model_name": "FloatProgressModel",
       "_view_count": null,
       "_view_module": "@jupyter-widgets/controls",
       "_view_module_version": "1.5.0",
       "_view_name": "ProgressView",
       "bar_style": "success",
       "description": "",
       "description_tooltip": null,
       "layout": "IPY_MODEL_607a17df9bd64c63a8b303ed0093549c",
       "max": 17307.0,
       "min": 0.0,
       "orientation": "horizontal",
       "style": "IPY_MODEL_6915dc4d39c340ebacd7a5a414253f50",
       "value": 17307.0
      }
     },
     "750ba14c2f1c4a2db59b71be73f72b55": {
      "model_module": "@jupyter-widgets/controls",
      "model_module_version": "1.5.0",
      "model_name": "DescriptionStyleModel",
      "state": {
       "_model_module": "@jupyter-widgets/controls",
       "_model_module_version": "1.5.0",
       "_model_name": "DescriptionStyleModel",
       "_view_count": null,
       "_view_module": "@jupyter-widgets/base",
       "_view_module_version": "1.2.0",
       "_view_name": "StyleView",
       "description_width": ""
      }
     },
     "7bb7702d913242e88217df3ebce87a85": {
      "model_module": "@jupyter-widgets/base",
      "model_module_version": "1.2.0",
      "model_name": "LayoutModel",
      "state": {
       "_model_module": "@jupyter-widgets/base",
       "_model_module_version": "1.2.0",
       "_model_name": "LayoutModel",
       "_view_count": null,
       "_view_module": "@jupyter-widgets/base",
       "_view_module_version": "1.2.0",
       "_view_name": "LayoutView",
       "align_content": null,
       "align_items": null,
       "align_self": null,
       "border": null,
       "bottom": null,
       "display": null,
       "flex": null,
       "flex_flow": null,
       "grid_area": null,
       "grid_auto_columns": null,
       "grid_auto_flow": null,
       "grid_auto_rows": null,
       "grid_column": null,
       "grid_gap": null,
       "grid_row": null,
       "grid_template_areas": null,
       "grid_template_columns": null,
       "grid_template_rows": null,
       "height": null,
       "justify_content": null,
       "justify_items": null,
       "left": null,
       "margin": null,
       "max_height": null,
       "max_width": null,
       "min_height": null,
       "min_width": null,
       "object_fit": null,
       "object_position": null,
       "order": null,
       "overflow": null,
       "overflow_x": null,
       "overflow_y": null,
       "padding": null,
       "right": null,
       "top": null,
       "visibility": null,
       "width": null
      }
     },
     "88bfd602ba274ca18a804cf16add5e59": {
      "model_module": "@jupyter-widgets/controls",
      "model_module_version": "1.5.0",
      "model_name": "DescriptionStyleModel",
      "state": {
       "_model_module": "@jupyter-widgets/controls",
       "_model_module_version": "1.5.0",
       "_model_name": "DescriptionStyleModel",
       "_view_count": null,
       "_view_module": "@jupyter-widgets/base",
       "_view_module_version": "1.2.0",
       "_view_name": "StyleView",
       "description_width": ""
      }
     },
     "8d25a865ec5343759951e70ffa11be5d": {
      "model_module": "@jupyter-widgets/base",
      "model_module_version": "1.2.0",
      "model_name": "LayoutModel",
      "state": {
       "_model_module": "@jupyter-widgets/base",
       "_model_module_version": "1.2.0",
       "_model_name": "LayoutModel",
       "_view_count": null,
       "_view_module": "@jupyter-widgets/base",
       "_view_module_version": "1.2.0",
       "_view_name": "LayoutView",
       "align_content": null,
       "align_items": null,
       "align_self": null,
       "border": null,
       "bottom": null,
       "display": null,
       "flex": null,
       "flex_flow": null,
       "grid_area": null,
       "grid_auto_columns": null,
       "grid_auto_flow": null,
       "grid_auto_rows": null,
       "grid_column": null,
       "grid_gap": null,
       "grid_row": null,
       "grid_template_areas": null,
       "grid_template_columns": null,
       "grid_template_rows": null,
       "height": null,
       "justify_content": null,
       "justify_items": null,
       "left": null,
       "margin": null,
       "max_height": null,
       "max_width": null,
       "min_height": null,
       "min_width": null,
       "object_fit": null,
       "object_position": null,
       "order": null,
       "overflow": null,
       "overflow_x": null,
       "overflow_y": null,
       "padding": null,
       "right": null,
       "top": null,
       "visibility": null,
       "width": null
      }
     },
     "a0ff540b06814840aba175069efaf3f9": {
      "model_module": "@jupyter-widgets/controls",
      "model_module_version": "1.5.0",
      "model_name": "HTMLModel",
      "state": {
       "_dom_classes": [],
       "_model_module": "@jupyter-widgets/controls",
       "_model_module_version": "1.5.0",
       "_model_name": "HTMLModel",
       "_view_count": null,
       "_view_module": "@jupyter-widgets/controls",
       "_view_module_version": "1.5.0",
       "_view_name": "HTMLView",
       "description": "",
       "description_tooltip": null,
       "layout": "IPY_MODEL_1bbdf17e9ab3435b91f3850a47d7b3e7",
       "placeholder": "​",
       "style": "IPY_MODEL_098cdceb452242fca86fc7138f4dca35",
       "value": " 3/3 [00:00&lt;00:00, 139.97 examples/s]"
      }
     },
     "c4d225da02ea4307bb85d850bcd95790": {
      "model_module": "@jupyter-widgets/controls",
      "model_module_version": "1.5.0",
      "model_name": "DescriptionStyleModel",
      "state": {
       "_model_module": "@jupyter-widgets/controls",
       "_model_module_version": "1.5.0",
       "_model_name": "DescriptionStyleModel",
       "_view_count": null,
       "_view_module": "@jupyter-widgets/base",
       "_view_module_version": "1.2.0",
       "_view_name": "StyleView",
       "description_width": ""
      }
     },
     "c574606579494d199ac455faa27d75db": {
      "model_module": "@jupyter-widgets/controls",
      "model_module_version": "1.5.0",
      "model_name": "FloatProgressModel",
      "state": {
       "_dom_classes": [],
       "_model_module": "@jupyter-widgets/controls",
       "_model_module_version": "1.5.0",
       "_model_name": "FloatProgressModel",
       "_view_count": null,
       "_view_module": "@jupyter-widgets/controls",
       "_view_module_version": "1.5.0",
       "_view_name": "ProgressView",
       "bar_style": "success",
       "description": "",
       "description_tooltip": null,
       "layout": "IPY_MODEL_e8aa13adee2e4d149a38b806cb36b4e9",
       "max": 3.0,
       "min": 0.0,
       "orientation": "horizontal",
       "style": "IPY_MODEL_6cb87adc0bcc4b039bfacf6d06a69302",
       "value": 3.0
      }
     },
     "cc80233f1ecb42f9aa398839ab97e405": {
      "model_module": "@jupyter-widgets/base",
      "model_module_version": "1.2.0",
      "model_name": "LayoutModel",
      "state": {
       "_model_module": "@jupyter-widgets/base",
       "_model_module_version": "1.2.0",
       "_model_name": "LayoutModel",
       "_view_count": null,
       "_view_module": "@jupyter-widgets/base",
       "_view_module_version": "1.2.0",
       "_view_name": "LayoutView",
       "align_content": null,
       "align_items": null,
       "align_self": null,
       "border": null,
       "bottom": null,
       "display": null,
       "flex": null,
       "flex_flow": null,
       "grid_area": null,
       "grid_auto_columns": null,
       "grid_auto_flow": null,
       "grid_auto_rows": null,
       "grid_column": null,
       "grid_gap": null,
       "grid_row": null,
       "grid_template_areas": null,
       "grid_template_columns": null,
       "grid_template_rows": null,
       "height": null,
       "justify_content": null,
       "justify_items": null,
       "left": null,
       "margin": null,
       "max_height": null,
       "max_width": null,
       "min_height": null,
       "min_width": null,
       "object_fit": null,
       "object_position": null,
       "order": null,
       "overflow": null,
       "overflow_x": null,
       "overflow_y": null,
       "padding": null,
       "right": null,
       "top": null,
       "visibility": null,
       "width": null
      }
     },
     "cdfe73d4a2784987be38ad955d0f276e": {
      "model_module": "@jupyter-widgets/base",
      "model_module_version": "1.2.0",
      "model_name": "LayoutModel",
      "state": {
       "_model_module": "@jupyter-widgets/base",
       "_model_module_version": "1.2.0",
       "_model_name": "LayoutModel",
       "_view_count": null,
       "_view_module": "@jupyter-widgets/base",
       "_view_module_version": "1.2.0",
       "_view_name": "LayoutView",
       "align_content": null,
       "align_items": null,
       "align_self": null,
       "border": null,
       "bottom": null,
       "display": null,
       "flex": null,
       "flex_flow": null,
       "grid_area": null,
       "grid_auto_columns": null,
       "grid_auto_flow": null,
       "grid_auto_rows": null,
       "grid_column": null,
       "grid_gap": null,
       "grid_row": null,
       "grid_template_areas": null,
       "grid_template_columns": null,
       "grid_template_rows": null,
       "height": null,
       "justify_content": null,
       "justify_items": null,
       "left": null,
       "margin": null,
       "max_height": null,
       "max_width": null,
       "min_height": null,
       "min_width": null,
       "object_fit": null,
       "object_position": null,
       "order": null,
       "overflow": null,
       "overflow_x": null,
       "overflow_y": null,
       "padding": null,
       "right": null,
       "top": null,
       "visibility": null,
       "width": null
      }
     },
     "d54eb2ff737b40e5ae43401724160ce3": {
      "model_module": "@jupyter-widgets/controls",
      "model_module_version": "1.5.0",
      "model_name": "HTMLModel",
      "state": {
       "_dom_classes": [],
       "_model_module": "@jupyter-widgets/controls",
       "_model_module_version": "1.5.0",
       "_model_name": "HTMLModel",
       "_view_count": null,
       "_view_module": "@jupyter-widgets/controls",
       "_view_module_version": "1.5.0",
       "_view_name": "HTMLView",
       "description": "",
       "description_tooltip": null,
       "layout": "IPY_MODEL_646d66e4822c457396f4f4414ceffa62",
       "placeholder": "​",
       "style": "IPY_MODEL_39aab7c4b2c146a7846bcf5070d64c8a",
       "value": " 17307/17307 [00:19&lt;00:00, 912.14 examples/s]"
      }
     },
     "dae61337cc4a4322828e521e100454c5": {
      "model_module": "@jupyter-widgets/base",
      "model_module_version": "1.2.0",
      "model_name": "LayoutModel",
      "state": {
       "_model_module": "@jupyter-widgets/base",
       "_model_module_version": "1.2.0",
       "_model_name": "LayoutModel",
       "_view_count": null,
       "_view_module": "@jupyter-widgets/base",
       "_view_module_version": "1.2.0",
       "_view_name": "LayoutView",
       "align_content": null,
       "align_items": null,
       "align_self": null,
       "border": null,
       "bottom": null,
       "display": null,
       "flex": null,
       "flex_flow": null,
       "grid_area": null,
       "grid_auto_columns": null,
       "grid_auto_flow": null,
       "grid_auto_rows": null,
       "grid_column": null,
       "grid_gap": null,
       "grid_row": null,
       "grid_template_areas": null,
       "grid_template_columns": null,
       "grid_template_rows": null,
       "height": null,
       "justify_content": null,
       "justify_items": null,
       "left": null,
       "margin": null,
       "max_height": null,
       "max_width": null,
       "min_height": null,
       "min_width": null,
       "object_fit": null,
       "object_position": null,
       "order": null,
       "overflow": null,
       "overflow_x": null,
       "overflow_y": null,
       "padding": null,
       "right": null,
       "top": null,
       "visibility": null,
       "width": null
      }
     },
     "e07daa322adb4dfb854a9c81549d5ab5": {
      "model_module": "@jupyter-widgets/controls",
      "model_module_version": "1.5.0",
      "model_name": "HBoxModel",
      "state": {
       "_dom_classes": [],
       "_model_module": "@jupyter-widgets/controls",
       "_model_module_version": "1.5.0",
       "_model_name": "HBoxModel",
       "_view_count": null,
       "_view_module": "@jupyter-widgets/controls",
       "_view_module_version": "1.5.0",
       "_view_name": "HBoxView",
       "box_style": "",
       "children": [
        "IPY_MODEL_eb90ee154bbb4d8dba7e9b06ce9d7e0f",
        "IPY_MODEL_380aefb6c8374d27b32b9ea5be313d01",
        "IPY_MODEL_a0ff540b06814840aba175069efaf3f9"
       ],
       "layout": "IPY_MODEL_cdfe73d4a2784987be38ad955d0f276e"
      }
     },
     "e163f1e35f8445f88d3852fb01396fbc": {
      "model_module": "@jupyter-widgets/base",
      "model_module_version": "1.2.0",
      "model_name": "LayoutModel",
      "state": {
       "_model_module": "@jupyter-widgets/base",
       "_model_module_version": "1.2.0",
       "_model_name": "LayoutModel",
       "_view_count": null,
       "_view_module": "@jupyter-widgets/base",
       "_view_module_version": "1.2.0",
       "_view_name": "LayoutView",
       "align_content": null,
       "align_items": null,
       "align_self": null,
       "border": null,
       "bottom": null,
       "display": null,
       "flex": null,
       "flex_flow": null,
       "grid_area": null,
       "grid_auto_columns": null,
       "grid_auto_flow": null,
       "grid_auto_rows": null,
       "grid_column": null,
       "grid_gap": null,
       "grid_row": null,
       "grid_template_areas": null,
       "grid_template_columns": null,
       "grid_template_rows": null,
       "height": null,
       "justify_content": null,
       "justify_items": null,
       "left": null,
       "margin": null,
       "max_height": null,
       "max_width": null,
       "min_height": null,
       "min_width": null,
       "object_fit": null,
       "object_position": null,
       "order": null,
       "overflow": null,
       "overflow_x": null,
       "overflow_y": null,
       "padding": null,
       "right": null,
       "top": null,
       "visibility": null,
       "width": null
      }
     },
     "e8aa13adee2e4d149a38b806cb36b4e9": {
      "model_module": "@jupyter-widgets/base",
      "model_module_version": "1.2.0",
      "model_name": "LayoutModel",
      "state": {
       "_model_module": "@jupyter-widgets/base",
       "_model_module_version": "1.2.0",
       "_model_name": "LayoutModel",
       "_view_count": null,
       "_view_module": "@jupyter-widgets/base",
       "_view_module_version": "1.2.0",
       "_view_name": "LayoutView",
       "align_content": null,
       "align_items": null,
       "align_self": null,
       "border": null,
       "bottom": null,
       "display": null,
       "flex": null,
       "flex_flow": null,
       "grid_area": null,
       "grid_auto_columns": null,
       "grid_auto_flow": null,
       "grid_auto_rows": null,
       "grid_column": null,
       "grid_gap": null,
       "grid_row": null,
       "grid_template_areas": null,
       "grid_template_columns": null,
       "grid_template_rows": null,
       "height": null,
       "justify_content": null,
       "justify_items": null,
       "left": null,
       "margin": null,
       "max_height": null,
       "max_width": null,
       "min_height": null,
       "min_width": null,
       "object_fit": null,
       "object_position": null,
       "order": null,
       "overflow": null,
       "overflow_x": null,
       "overflow_y": null,
       "padding": null,
       "right": null,
       "top": null,
       "visibility": null,
       "width": null
      }
     },
     "eb90ee154bbb4d8dba7e9b06ce9d7e0f": {
      "model_module": "@jupyter-widgets/controls",
      "model_module_version": "1.5.0",
      "model_name": "HTMLModel",
      "state": {
       "_dom_classes": [],
       "_model_module": "@jupyter-widgets/controls",
       "_model_module_version": "1.5.0",
       "_model_name": "HTMLModel",
       "_view_count": null,
       "_view_module": "@jupyter-widgets/controls",
       "_view_module_version": "1.5.0",
       "_view_name": "HTMLView",
       "description": "",
       "description_tooltip": null,
       "layout": "IPY_MODEL_f675c70007ea431daa42af33bc8fe381",
       "placeholder": "​",
       "style": "IPY_MODEL_f9165e8bb1de40e1a6d4cb982411d7cc",
       "value": "Map: 100%"
      }
     },
     "ed6345413a664a87a431cbf69187760b": {
      "model_module": "@jupyter-widgets/controls",
      "model_module_version": "1.5.0",
      "model_name": "ProgressStyleModel",
      "state": {
       "_model_module": "@jupyter-widgets/controls",
       "_model_module_version": "1.5.0",
       "_model_name": "ProgressStyleModel",
       "_view_count": null,
       "_view_module": "@jupyter-widgets/base",
       "_view_module_version": "1.2.0",
       "_view_name": "StyleView",
       "bar_color": null,
       "description_width": ""
      }
     },
     "ee399614387641efbacfadf5f0d1c889": {
      "model_module": "@jupyter-widgets/base",
      "model_module_version": "1.2.0",
      "model_name": "LayoutModel",
      "state": {
       "_model_module": "@jupyter-widgets/base",
       "_model_module_version": "1.2.0",
       "_model_name": "LayoutModel",
       "_view_count": null,
       "_view_module": "@jupyter-widgets/base",
       "_view_module_version": "1.2.0",
       "_view_name": "LayoutView",
       "align_content": null,
       "align_items": null,
       "align_self": null,
       "border": null,
       "bottom": null,
       "display": null,
       "flex": null,
       "flex_flow": null,
       "grid_area": null,
       "grid_auto_columns": null,
       "grid_auto_flow": null,
       "grid_auto_rows": null,
       "grid_column": null,
       "grid_gap": null,
       "grid_row": null,
       "grid_template_areas": null,
       "grid_template_columns": null,
       "grid_template_rows": null,
       "height": null,
       "justify_content": null,
       "justify_items": null,
       "left": null,
       "margin": null,
       "max_height": null,
       "max_width": null,
       "min_height": null,
       "min_width": null,
       "object_fit": null,
       "object_position": null,
       "order": null,
       "overflow": null,
       "overflow_x": null,
       "overflow_y": null,
       "padding": null,
       "right": null,
       "top": null,
       "visibility": null,
       "width": null
      }
     },
     "ef64c9c8a8c04f449abf0b0be7d982d7": {
      "model_module": "@jupyter-widgets/base",
      "model_module_version": "1.2.0",
      "model_name": "LayoutModel",
      "state": {
       "_model_module": "@jupyter-widgets/base",
       "_model_module_version": "1.2.0",
       "_model_name": "LayoutModel",
       "_view_count": null,
       "_view_module": "@jupyter-widgets/base",
       "_view_module_version": "1.2.0",
       "_view_name": "LayoutView",
       "align_content": null,
       "align_items": null,
       "align_self": null,
       "border": null,
       "bottom": null,
       "display": null,
       "flex": null,
       "flex_flow": null,
       "grid_area": null,
       "grid_auto_columns": null,
       "grid_auto_flow": null,
       "grid_auto_rows": null,
       "grid_column": null,
       "grid_gap": null,
       "grid_row": null,
       "grid_template_areas": null,
       "grid_template_columns": null,
       "grid_template_rows": null,
       "height": null,
       "justify_content": null,
       "justify_items": null,
       "left": null,
       "margin": null,
       "max_height": null,
       "max_width": null,
       "min_height": null,
       "min_width": null,
       "object_fit": null,
       "object_position": null,
       "order": null,
       "overflow": null,
       "overflow_x": null,
       "overflow_y": null,
       "padding": null,
       "right": null,
       "top": null,
       "visibility": null,
       "width": null
      }
     },
     "f36e6be9ae2e40288fc819eb7c5bea0b": {
      "model_module": "@jupyter-widgets/base",
      "model_module_version": "1.2.0",
      "model_name": "LayoutModel",
      "state": {
       "_model_module": "@jupyter-widgets/base",
       "_model_module_version": "1.2.0",
       "_model_name": "LayoutModel",
       "_view_count": null,
       "_view_module": "@jupyter-widgets/base",
       "_view_module_version": "1.2.0",
       "_view_name": "LayoutView",
       "align_content": null,
       "align_items": null,
       "align_self": null,
       "border": null,
       "bottom": null,
       "display": null,
       "flex": null,
       "flex_flow": null,
       "grid_area": null,
       "grid_auto_columns": null,
       "grid_auto_flow": null,
       "grid_auto_rows": null,
       "grid_column": null,
       "grid_gap": null,
       "grid_row": null,
       "grid_template_areas": null,
       "grid_template_columns": null,
       "grid_template_rows": null,
       "height": null,
       "justify_content": null,
       "justify_items": null,
       "left": null,
       "margin": null,
       "max_height": null,
       "max_width": null,
       "min_height": null,
       "min_width": null,
       "object_fit": null,
       "object_position": null,
       "order": null,
       "overflow": null,
       "overflow_x": null,
       "overflow_y": null,
       "padding": null,
       "right": null,
       "top": null,
       "visibility": null,
       "width": null
      }
     },
     "f675c70007ea431daa42af33bc8fe381": {
      "model_module": "@jupyter-widgets/base",
      "model_module_version": "1.2.0",
      "model_name": "LayoutModel",
      "state": {
       "_model_module": "@jupyter-widgets/base",
       "_model_module_version": "1.2.0",
       "_model_name": "LayoutModel",
       "_view_count": null,
       "_view_module": "@jupyter-widgets/base",
       "_view_module_version": "1.2.0",
       "_view_name": "LayoutView",
       "align_content": null,
       "align_items": null,
       "align_self": null,
       "border": null,
       "bottom": null,
       "display": null,
       "flex": null,
       "flex_flow": null,
       "grid_area": null,
       "grid_auto_columns": null,
       "grid_auto_flow": null,
       "grid_auto_rows": null,
       "grid_column": null,
       "grid_gap": null,
       "grid_row": null,
       "grid_template_areas": null,
       "grid_template_columns": null,
       "grid_template_rows": null,
       "height": null,
       "justify_content": null,
       "justify_items": null,
       "left": null,
       "margin": null,
       "max_height": null,
       "max_width": null,
       "min_height": null,
       "min_width": null,
       "object_fit": null,
       "object_position": null,
       "order": null,
       "overflow": null,
       "overflow_x": null,
       "overflow_y": null,
       "padding": null,
       "right": null,
       "top": null,
       "visibility": null,
       "width": null
      }
     },
     "f9165e8bb1de40e1a6d4cb982411d7cc": {
      "model_module": "@jupyter-widgets/controls",
      "model_module_version": "1.5.0",
      "model_name": "DescriptionStyleModel",
      "state": {
       "_model_module": "@jupyter-widgets/controls",
       "_model_module_version": "1.5.0",
       "_model_name": "DescriptionStyleModel",
       "_view_count": null,
       "_view_module": "@jupyter-widgets/base",
       "_view_module_version": "1.2.0",
       "_view_name": "StyleView",
       "description_width": ""
      }
     },
     "fae3a8aed0b045919603ef45d029f600": {
      "model_module": "@jupyter-widgets/controls",
      "model_module_version": "1.5.0",
      "model_name": "HTMLModel",
      "state": {
       "_dom_classes": [],
       "_model_module": "@jupyter-widgets/controls",
       "_model_module_version": "1.5.0",
       "_model_name": "HTMLModel",
       "_view_count": null,
       "_view_module": "@jupyter-widgets/controls",
       "_view_module_version": "1.5.0",
       "_view_name": "HTMLView",
       "description": "",
       "description_tooltip": null,
       "layout": "IPY_MODEL_ee399614387641efbacfadf5f0d1c889",
       "placeholder": "​",
       "style": "IPY_MODEL_1e5c974ead14463dab94c78b42f47bfd",
       "value": " 3/3 [00:00&lt;00:00, 19.49 examples/s]"
      }
     },
     "fe1958fc557a48e0b4cf70a4a199c28b": {
      "model_module": "@jupyter-widgets/controls",
      "model_module_version": "1.5.0",
      "model_name": "HTMLModel",
      "state": {
       "_dom_classes": [],
       "_model_module": "@jupyter-widgets/controls",
       "_model_module_version": "1.5.0",
       "_model_name": "HTMLModel",
       "_view_count": null,
       "_view_module": "@jupyter-widgets/controls",
       "_view_module_version": "1.5.0",
       "_view_name": "HTMLView",
       "description": "",
       "description_tooltip": null,
       "layout": "IPY_MODEL_4c880dad08294e2cb10f2bc5fb29c0a1",
       "placeholder": "​",
       "style": "IPY_MODEL_5409685934be440bb9a580e224fa9f32",
       "value": "Map: 100%"
      }
     }
    },
    "version_major": 2,
    "version_minor": 0
   }
  }
 },
 "nbformat": 4,
 "nbformat_minor": 5
}
